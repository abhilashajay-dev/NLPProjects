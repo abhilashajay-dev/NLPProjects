{
 "cells": [
  {
   "cell_type": "markdown",
   "metadata": {},
   "source": [
    "## LLMS with LangChain"
   ]
  },
  {
   "cell_type": "code",
   "execution_count": 1,
   "metadata": {},
   "outputs": [],
   "source": [
    "from langchain.llms import OpenAI\n",
    "from langchain.chat_models import ChatOpenAI"
   ]
  },
  {
   "cell_type": "code",
   "execution_count": 2,
   "metadata": {},
   "outputs": [],
   "source": [
    "from dotenv import load_dotenv\n",
    "import os"
   ]
  },
  {
   "cell_type": "code",
   "execution_count": 3,
   "metadata": {},
   "outputs": [
    {
     "data": {
      "text/plain": [
       "True"
      ]
     },
     "execution_count": 3,
     "metadata": {},
     "output_type": "execute_result"
    }
   ],
   "source": [
    "load_dotenv()"
   ]
  },
  {
   "cell_type": "code",
   "execution_count": 54,
   "metadata": {},
   "outputs": [],
   "source": [
    "llm = OpenAI()"
   ]
  },
  {
   "cell_type": "code",
   "execution_count": 35,
   "metadata": {},
   "outputs": [
    {
     "name": "stdout",
     "output_type": "stream",
     "text": [
      "\n",
      "\n",
      "Pluto was the first Trans-Neptunian object to be discovered. It was discovered by astronomer Clyde Tombaugh in 1930.\n"
     ]
    }
   ],
   "source": [
    "print(llm('fact about pluto'))"
   ]
  },
  {
   "cell_type": "markdown",
   "metadata": {},
   "source": [
    "## llm generate we can pass a list of prompts"
   ]
  },
  {
   "cell_type": "code",
   "execution_count": 38,
   "metadata": {},
   "outputs": [],
   "source": [
    "result = llm.generate(['fact about pluto', 'fact about mars'])"
   ]
  },
  {
   "cell_type": "code",
   "execution_count": 46,
   "metadata": {},
   "outputs": [
    {
     "data": {
      "text/plain": [
       "{'token_usage': {'total_tokens': 71,\n",
       "  'completion_tokens': 64,\n",
       "  'prompt_tokens': 7}}"
      ]
     },
     "execution_count": 46,
     "metadata": {},
     "output_type": "execute_result"
    }
   ],
   "source": [
    "result.llm_output"
   ]
  },
  {
   "cell_type": "code",
   "execution_count": 51,
   "metadata": {},
   "outputs": [
    {
     "data": {
      "text/plain": [
       "'\\n\\nMars has the tallest mountain in the Solar System. The mountain, called Olympus Mons, is a shield volcano measuring about 21 km (13 mi) high and 600 km (370 mi) in diameter.'"
      ]
     },
     "execution_count": 51,
     "metadata": {},
     "output_type": "execute_result"
    }
   ],
   "source": [
    "result.generations[1][0].text"
   ]
  },
  {
   "cell_type": "code",
   "execution_count": 52,
   "metadata": {},
   "outputs": [
    {
     "name": "stdout",
     "output_type": "stream",
     "text": [
      "\n",
      "\n",
      "Mars has the tallest mountain in the Solar System. The mountain, called Olympus Mons, is a shield volcano measuring about 21 km (13 mi) high and 600 km (370 mi) in diameter.\n"
     ]
    }
   ],
   "source": [
    "print(result.generations[1][0].text)"
   ]
  },
  {
   "cell_type": "markdown",
   "metadata": {},
   "source": [
    "## Chat model from langchain"
   ]
  },
  {
   "cell_type": "code",
   "execution_count": 4,
   "metadata": {},
   "outputs": [],
   "source": [
    "chat = ChatOpenAI()"
   ]
  },
  {
   "cell_type": "code",
   "execution_count": 9,
   "metadata": {},
   "outputs": [],
   "source": [
    "from langchain.schema import (\n",
    "    AIMessage,\n",
    "    HumanMessage,\n",
    "    SystemMessage,\n",
    ")"
   ]
  },
  {
   "cell_type": "code",
   "execution_count": 22,
   "metadata": {},
   "outputs": [],
   "source": [
    "result =  chat([\n",
    "    SystemMessage(content=\"you are a hated person\"),\n",
    "    HumanMessage(content=\"Tell me a fact about pluto\")])"
   ]
  },
  {
   "cell_type": "code",
   "execution_count": 23,
   "metadata": {},
   "outputs": [
    {
     "data": {
      "text/plain": [
       "'A fact about Pluto is that it was classified as a planet until 2006 when it was reclassified as a \"dwarf planet\" by the International Astronomical Union.'"
      ]
     },
     "execution_count": 23,
     "metadata": {},
     "output_type": "execute_result"
    }
   ],
   "source": [
    "result.content"
   ]
  },
  {
   "cell_type": "code",
   "execution_count": 24,
   "metadata": {},
   "outputs": [],
   "source": [
    "results= chat.generate([\n",
    "    [SystemMessage(content=\"you are a hated person\"),\n",
    "     HumanMessage(content=\"Tell me a fact about pluto\")\n",
    "     ],\n",
    "    [SystemMessage(content=\"you are a 3 year old\"),\n",
    "        HumanMessage(content=\"Tell me a fact about pluto\"\n",
    "      )]\n",
    "])"
   ]
  },
  {
   "cell_type": "code",
   "execution_count": 25,
   "metadata": {},
   "outputs": [
    {
     "data": {
      "text/plain": [
       "{'token_usage': {'prompt_tokens': 48,\n",
       "  'completion_tokens': 96,\n",
       "  'total_tokens': 144},\n",
       " 'model_name': 'gpt-3.5-turbo'}"
      ]
     },
     "execution_count": 25,
     "metadata": {},
     "output_type": "execute_result"
    }
   ],
   "source": [
    "results.llm_output"
   ]
  },
  {
   "cell_type": "code",
   "execution_count": 35,
   "metadata": {},
   "outputs": [
    {
     "data": {
      "text/plain": [
       "'Did you know that Pluto used to be considered the ninth planet in our solar system, but in 2006, scientists decided to call it a dwarf planet instead?'"
      ]
     },
     "execution_count": 35,
     "metadata": {},
     "output_type": "execute_result"
    }
   ],
   "source": [
    "results.generations[1][0].text"
   ]
  },
  {
   "cell_type": "code",
   "execution_count": 48,
   "metadata": {},
   "outputs": [],
   "source": [
    "result = chat([\n",
    "    SystemMessage(content=\"you are a 3 year old\"),\n",
    "    HumanMessage(content=\"Tell me a fact about pluto\")\n",
    "\n",
    "], max_tokens=20, temperature=2, presence_penalty=2)"
   ]
  },
  {
   "cell_type": "code",
   "execution_count": 49,
   "metadata": {},
   "outputs": [
    {
     "data": {
      "text/plain": [
       "'.O sweep128 unary\\tverticesONernessshapesarranty_prop-signed(contweıc-registerently-statecloakStephenêt'"
      ]
     },
     "execution_count": 49,
     "metadata": {},
     "output_type": "execute_result"
    }
   ],
   "source": [
    "result.content"
   ]
  },
  {
   "cell_type": "code",
   "execution_count": 50,
   "metadata": {},
   "outputs": [
    {
     "data": {
      "text/plain": [
       "AIMessage(content='.O sweep128 unary\\tverticesONernessshapesarranty_prop-signed(contweıc-registerently-statecloakStephenêt', additional_kwargs={}, example=False)"
      ]
     },
     "execution_count": 50,
     "metadata": {},
     "output_type": "execute_result"
    }
   ],
   "source": [
    "result"
   ]
  },
  {
   "cell_type": "markdown",
   "metadata": {},
   "source": [
    "## Langchain Cache"
   ]
  },
  {
   "cell_type": "code",
   "execution_count": 77,
   "metadata": {},
   "outputs": [],
   "source": [
    "import langchain\n",
    "from langchain.cache import InMemoryCache\n",
    "langchain.cache = InMemoryCache()"
   ]
  },
  {
   "cell_type": "code",
   "execution_count": 62,
   "metadata": {},
   "outputs": [
    {
     "data": {
      "text/plain": [
       "'\\n\\nPluto is the only dwarf planet in the Solar System that has not been visited by a spacecraft.'"
      ]
     },
     "execution_count": 62,
     "metadata": {},
     "output_type": "execute_result"
    }
   ],
   "source": [
    "llm.predict('fact about pluto', temperature=0)"
   ]
  },
  {
   "cell_type": "code",
   "execution_count": 64,
   "metadata": {},
   "outputs": [
    {
     "data": {
      "text/plain": [
       "'\\n\\nPluto is the only dwarf planet in the Solar System that has not been visited by a spacecraft.'"
      ]
     },
     "execution_count": 64,
     "metadata": {},
     "output_type": "execute_result"
    }
   ],
   "source": [
    "llm.predict('fact about pluto', temperature=0)"
   ]
  },
  {
   "cell_type": "markdown",
   "metadata": {},
   "source": [
    "## Prompt Templates"
   ]
  },
  {
   "cell_type": "code",
   "execution_count": 65,
   "metadata": {},
   "outputs": [],
   "source": [
    "promt = 'fact about {planet}'"
   ]
  },
  {
   "cell_type": "code",
   "execution_count": 66,
   "metadata": {},
   "outputs": [],
   "source": [
    "planet = 'pluto'"
   ]
  },
  {
   "cell_type": "code",
   "execution_count": 67,
   "metadata": {},
   "outputs": [
    {
     "data": {
      "text/plain": [
       "'\\n\\nPluto is the only dwarf planet in the Solar System that has not been visited by a spacecraft.'"
      ]
     },
     "execution_count": 67,
     "metadata": {},
     "output_type": "execute_result"
    }
   ],
   "source": [
    "llm(promt.format(planet=planet), temperature=0)"
   ]
  },
  {
   "cell_type": "code",
   "execution_count": 68,
   "metadata": {},
   "outputs": [],
   "source": [
    "from langchain import PromptTemplate"
   ]
  },
  {
   "cell_type": "code",
   "execution_count": 71,
   "metadata": {},
   "outputs": [],
   "source": [
    "single_input_prompt = PromptTemplate(\n",
    "    template='tell me a fact about {topic}',\n",
    "    input_variables=[\"topic\"],\n",
    ")"
   ]
  },
  {
   "cell_type": "code",
   "execution_count": 73,
   "metadata": {},
   "outputs": [
    {
     "data": {
      "text/plain": [
       "'tell me a fact about pluto'"
      ]
     },
     "execution_count": 73,
     "metadata": {},
     "output_type": "execute_result"
    }
   ],
   "source": [
    "single_input_prompt.format(topic=\"pluto\")"
   ]
  },
  {
   "cell_type": "code",
   "execution_count": 76,
   "metadata": {},
   "outputs": [
    {
     "data": {
      "text/plain": [
       "\"\\n\\nPluto is the largest known dwarf planet in the Solar System. It is about two-thirds the size of Earth's moon.\""
      ]
     },
     "execution_count": 76,
     "metadata": {},
     "output_type": "execute_result"
    }
   ],
   "source": [
    "llm(single_input_prompt.format(topic=\"pluto\"), temperature=0)"
   ]
  },
  {
   "cell_type": "code",
   "execution_count": 78,
   "metadata": {},
   "outputs": [
    {
     "data": {
      "text/plain": [
       "'\\n\\nDogs have three eyelids, including one to keep the eye moist and protected.'"
      ]
     },
     "execution_count": 78,
     "metadata": {},
     "output_type": "execute_result"
    }
   ],
   "source": [
    "llm(single_input_prompt.format(topic=\"dogs\"), temperature=0)"
   ]
  },
  {
   "cell_type": "code",
   "execution_count": 79,
   "metadata": {},
   "outputs": [],
   "source": [
    "multi_input_prompt = PromptTemplate(\n",
    "    input_variables=[\"topic\", \"level\"],\n",
    "    template='tell me a fact about {topic} for a {level} student',\n",
    ")"
   ]
  },
  {
   "cell_type": "code",
   "execution_count": 80,
   "metadata": {},
   "outputs": [
    {
     "data": {
      "text/plain": [
       "'tell me a fact about pluto for a 3rd grade student'"
      ]
     },
     "execution_count": 80,
     "metadata": {},
     "output_type": "execute_result"
    }
   ],
   "source": [
    "multi_input_prompt.format(topic=\"pluto\", level=\"3rd grade\")"
   ]
  },
  {
   "cell_type": "code",
   "execution_count": 82,
   "metadata": {},
   "outputs": [
    {
     "data": {
      "text/plain": [
       "'\\n\\nThe average depth of the ocean is 12,100 feet (3,688 meters), and the deepest point is the Mariana Trench, which is located in the western Pacific Ocean and has a depth of 36,200 feet (11,034 meters).'"
      ]
     },
     "execution_count": 82,
     "metadata": {},
     "output_type": "execute_result"
    }
   ],
   "source": [
    "llm(multi_input_prompt.format(topic=\"ocean\", level=\"PHD\"), temperature=0)"
   ]
  },
  {
   "cell_type": "code",
   "execution_count": 104,
   "metadata": {},
   "outputs": [],
   "source": [
    "from langchain.prompts import (\n",
    "    ChatPromptTemplate,\n",
    "    PromptTemplate,\n",
    "    SystemMessagePromptTemplate,\n",
    "    HumanMessagePromptTemplate,\n",
    "    AIMessagePromptTemplate,\n",
    ")"
   ]
  },
  {
   "cell_type": "code",
   "execution_count": 84,
   "metadata": {},
   "outputs": [],
   "source": [
    "from langchain.schema import (\n",
    "    AIMessage,\n",
    "    HumanMessage,\n",
    "    SystemMessage,\n",
    ")"
   ]
  },
  {
   "cell_type": "code",
   "execution_count": 85,
   "metadata": {},
   "outputs": [],
   "source": [
    "system_template = \"You are an AI recipe assistant that specializes in {dietary_preference} dishes that can be prepared in {cooking_time}\""
   ]
  },
  {
   "cell_type": "code",
   "execution_count": 86,
   "metadata": {},
   "outputs": [],
   "source": [
    "system_message_prompt = SystemMessagePromptTemplate.from_template(system_template)"
   ]
  },
  {
   "cell_type": "code",
   "execution_count": 87,
   "metadata": {},
   "outputs": [
    {
     "data": {
      "text/plain": [
       "SystemMessage(content='You are an AI recipe assistant that specializes in vegan dishes that can be prepared in 30 minutes', additional_kwargs={})"
      ]
     },
     "execution_count": 87,
     "metadata": {},
     "output_type": "execute_result"
    }
   ],
   "source": [
    "system_message_prompt.format(dietary_preference=\"vegan\", cooking_time=\"30 minutes\")"
   ]
  },
  {
   "cell_type": "code",
   "execution_count": 90,
   "metadata": {},
   "outputs": [],
   "source": [
    "human_template= \"{recipe_request}\"\n",
    "\n",
    "human_message_prompt = HumanMessagePromptTemplate.from_template(human_template)"
   ]
  },
  {
   "cell_type": "code",
   "execution_count": 91,
   "metadata": {},
   "outputs": [
    {
     "data": {
      "text/plain": [
       "['cooking_time', 'dietary_preference']"
      ]
     },
     "execution_count": 91,
     "metadata": {},
     "output_type": "execute_result"
    }
   ],
   "source": [
    "system_message_prompt.input_variables"
   ]
  },
  {
   "cell_type": "code",
   "execution_count": 92,
   "metadata": {},
   "outputs": [
    {
     "data": {
      "text/plain": [
       "['recipe_request']"
      ]
     },
     "execution_count": 92,
     "metadata": {},
     "output_type": "execute_result"
    }
   ],
   "source": [
    "human_message_prompt.input_variables"
   ]
  },
  {
   "cell_type": "code",
   "execution_count": 93,
   "metadata": {},
   "outputs": [],
   "source": [
    "chat_prompt = ChatPromptTemplate.from_messages(\n",
    "    [\n",
    "        system_message_prompt,\n",
    "        human_message_prompt,\n",
    "    ]\n",
    ")"
   ]
  },
  {
   "cell_type": "code",
   "execution_count": 94,
   "metadata": {},
   "outputs": [
    {
     "data": {
      "text/plain": [
       "['cooking_time', 'dietary_preference', 'recipe_request']"
      ]
     },
     "execution_count": 94,
     "metadata": {},
     "output_type": "execute_result"
    }
   ],
   "source": [
    "chat_prompt.input_variables"
   ]
  },
  {
   "cell_type": "code",
   "execution_count": 97,
   "metadata": {},
   "outputs": [
    {
     "data": {
      "text/plain": [
       "[SystemMessage(content='You are an AI recipe assistant that specializes in vegan dishes that can be prepared in 30 minutes', additional_kwargs={}),\n",
       " HumanMessage(content='I want to make a vegan dish that takes 30 minutes to prepare', additional_kwargs={}, example=False)]"
      ]
     },
     "execution_count": 97,
     "metadata": {},
     "output_type": "execute_result"
    }
   ],
   "source": [
    "chat_prompt.format_prompt(\n",
    "    dietary_preference=\"vegan\",\n",
    "    cooking_time=\"30 minutes\",\n",
    "    recipe_request=\"I want to make a vegan dish that takes 30 minutes to prepare\"\n",
    ").to_messages()"
   ]
  },
  {
   "cell_type": "code",
   "execution_count": 98,
   "metadata": {},
   "outputs": [],
   "source": [
    "prompt = chat_prompt.format_prompt(\n",
    "    dietary_preference=\"vegan\",\n",
    "    cooking_time=\"30 minutes\",\n",
    "    recipe_request=\"I want to make a vegan dish that takes 30 minutes to prepare\"\n",
    ").to_messages()"
   ]
  },
  {
   "cell_type": "code",
   "execution_count": 100,
   "metadata": {},
   "outputs": [],
   "source": [
    "result = chat(prompt)"
   ]
  },
  {
   "cell_type": "code",
   "execution_count": 102,
   "metadata": {},
   "outputs": [
    {
     "name": "stdout",
     "output_type": "stream",
     "text": [
      "How about making a delicious Vegan Pad Thai? It's a quick and flavorful dish that can be prepared in just 30 minutes. Here's a recipe for you:\n",
      "\n",
      "Ingredients:\n",
      "- 8 oz rice noodles\n",
      "- 2 tbsp vegetable oil\n",
      "- 1 cup tofu, cubed\n",
      "- 1/2 cup carrots, julienned\n",
      "- 1/2 cup bell peppers, sliced\n",
      "- 1/2 cup bean sprouts\n",
      "- 1/4 cup green onions, chopped\n",
      "- 1/4 cup roasted peanuts, chopped\n",
      "- Lime wedges, for serving\n",
      "\n",
      "For the sauce:\n",
      "- 3 tbsp soy sauce\n",
      "- 2 tbsp maple syrup or agave nectar\n",
      "- 2 tbsp rice vinegar\n",
      "- 1 tbsp lime juice\n",
      "- 1 tbsp sriracha or chili sauce (adjust to taste)\n",
      "- 1 tbsp peanut butter\n",
      "- 1 tsp minced garlic\n",
      "- 1 tsp minced ginger\n",
      "\n",
      "Instructions:\n",
      "1. Cook the rice noodles according to the package instructions. Once cooked, drain and set aside.\n",
      "2. In a small bowl, whisk together all the sauce ingredients until well combined.\n",
      "3. Heat 1 tablespoon of vegetable oil in a large pan or wok over medium-high heat. Add the tofu and cook until browned and crispy on all sides. Remove the tofu from the pan and set aside.\n",
      "4. In the same pan, add another tablespoon of vegetable oil. Add the carrots and bell peppers, and stir-fry for 2-3 minutes until slightly tender.\n",
      "5. Add the cooked rice noodles, tofu, bean sprouts, and sauce to the pan. Toss everything together until well coated with the sauce.\n",
      "6. Continue cooking for another 2-3 minutes, stirring frequently, until the noodles are heated through.\n",
      "7. Remove from heat and garnish with green onions and chopped peanuts.\n",
      "8. Serve hot with lime wedges on the side.\n",
      "\n",
      "Enjoy your flavorful Vegan Pad Thai!\n"
     ]
    }
   ],
   "source": [
    "print(result.content)"
   ]
  },
  {
   "cell_type": "markdown",
   "metadata": {},
   "source": [
    "## Few Shot prompt Template"
   ]
  },
  {
   "cell_type": "code",
   "execution_count": 105,
   "metadata": {},
   "outputs": [],
   "source": [
    "# AI Legal Assistant\n",
    "\n",
    "system_template = \"You are an AI legal assistant that translates legal terms to a plain understandable language for a 8th grade student\"\n",
    "system_message_prompt = SystemMessagePromptTemplate.from_template(system_template)\n",
    "\n",
    "legal_text = \"The provisions of this chapter shall not apply to any person who is a member of the bar of the highest court of any State, and who is engaged in the practice of law within such State, if such person does not hold himself out as practicing before the Patent and Trademark Office.\"\n",
    "plain_text = \"The rules of this chapter do not apply to any person who is a member of the bar of the highest court of any State, and who is engaged in the practice of law within such State, if such person does not hold himself out as practicing before the Patent and Trademark Office.\"\n",
    "\n",
    "input_one_prompt = HumanMessagePromptTemplate.from_template(legal_text)\n",
    "output_one_prompt = AIMessagePromptTemplate.from_template(plain_text)\n",
    "\n",
    "human_template= \"{legal_text}\"\n",
    "\n",
    "human_message_prompt = HumanMessagePromptTemplate.from_template(human_template)\n",
    "\n",
    "chat_prompt = ChatPromptTemplate.from_messages(\n",
    "    [\n",
    "        system_message_prompt,\n",
    "        input_one_prompt,\n",
    "        output_one_prompt,\n",
    "        human_message_prompt,\n",
    "    ]\n",
    ")\n"
   ]
  },
  {
   "cell_type": "code",
   "execution_count": 106,
   "metadata": {},
   "outputs": [
    {
     "data": {
      "text/plain": [
       "['legal_text']"
      ]
     },
     "execution_count": 106,
     "metadata": {},
     "output_type": "execute_result"
    }
   ],
   "source": [
    "chat_prompt.input_variables"
   ]
  },
  {
   "cell_type": "code",
   "execution_count": 109,
   "metadata": {},
   "outputs": [],
   "source": [
    "example_legal_text = \"The provisions of this chapter shall not apply to any person who is a member of the bar of the highest court of any State, and who is engaged in the practice of law within such State, if such person does not hold himself out as practicing before the Patent and Trademark Office.\"\n",
    "request = chat_prompt.format_prompt(\n",
    "    legal_text=example_legal_text\n",
    ").to_messages()"
   ]
  },
  {
   "cell_type": "code",
   "execution_count": 110,
   "metadata": {},
   "outputs": [
    {
     "data": {
      "text/plain": [
       "[SystemMessage(content='You are an AI legal assistant that translates legal terms to a plain understandable language for a 8th grade student', additional_kwargs={}),\n",
       " HumanMessage(content='The provisions of this chapter shall not apply to any person who is a member of the bar of the highest court of any State, and who is engaged in the practice of law within such State, if such person does not hold himself out as practicing before the Patent and Trademark Office.', additional_kwargs={}, example=False),\n",
       " AIMessage(content='The rules of this chapter do not apply to any person who is a member of the bar of the highest court of any State, and who is engaged in the practice of law within such State, if such person does not hold himself out as practicing before the Patent and Trademark Office.', additional_kwargs={}, example=False),\n",
       " HumanMessage(content='The provisions of this chapter shall not apply to any person who is a member of the bar of the highest court of any State, and who is engaged in the practice of law within such State, if such person does not hold himself out as practicing before the Patent and Trademark Office.', additional_kwargs={}, example=False)]"
      ]
     },
     "execution_count": 110,
     "metadata": {},
     "output_type": "execute_result"
    }
   ],
   "source": [
    "request"
   ]
  },
  {
   "cell_type": "code",
   "execution_count": 111,
   "metadata": {},
   "outputs": [],
   "source": [
    "result = chat(request)"
   ]
  },
  {
   "cell_type": "code",
   "execution_count": 114,
   "metadata": {},
   "outputs": [
    {
     "name": "stdout",
     "output_type": "stream",
     "text": [
      "The rules in this chapter don't apply to lawyers who are licensed in any state and practicing law within that state, as long as they don't claim to practice before the Patent and Trademark Office.\n"
     ]
    }
   ],
   "source": [
    "print(result.content)"
   ]
  },
  {
   "cell_type": "code",
   "execution_count": null,
   "metadata": {},
   "outputs": [],
   "source": []
  }
 ],
 "metadata": {
  "kernelspec": {
   "display_name": "nlp",
   "language": "python",
   "name": "python3"
  },
  "language_info": {
   "codemirror_mode": {
    "name": "ipython",
    "version": 3
   },
   "file_extension": ".py",
   "mimetype": "text/x-python",
   "name": "python",
   "nbconvert_exporter": "python",
   "pygments_lexer": "ipython3",
   "version": "3.10.12"
  },
  "orig_nbformat": 4
 },
 "nbformat": 4,
 "nbformat_minor": 2
}
