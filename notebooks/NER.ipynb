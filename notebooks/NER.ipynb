{
 "cells": [
  {
   "cell_type": "markdown",
   "metadata": {},
   "source": [
    "## Named Entity Recognition (NER) With SpaCy"
   ]
  },
  {
   "cell_type": "code",
   "execution_count": 1,
   "metadata": {},
   "outputs": [
    {
     "name": "stdout",
     "output_type": "stream",
     "text": [
      "Collecting spacy\n",
      "  Obtaining dependency information for spacy from https://files.pythonhosted.org/packages/34/1a/cd4f39dcd28628bf69d2a6642aea3854f2de877196c737bf08e4ef3ca372/spacy-3.6.1-cp310-cp310-win_amd64.whl.metadata\n",
      "  Downloading spacy-3.6.1-cp310-cp310-win_amd64.whl.metadata (26 kB)\n",
      "Collecting spacy-legacy<3.1.0,>=3.0.11 (from spacy)\n",
      "  Using cached spacy_legacy-3.0.12-py2.py3-none-any.whl (29 kB)\n",
      "Collecting spacy-loggers<2.0.0,>=1.0.0 (from spacy)\n",
      "  Using cached spacy_loggers-1.0.4-py3-none-any.whl (11 kB)\n",
      "Collecting murmurhash<1.1.0,>=0.28.0 (from spacy)\n",
      "  Using cached murmurhash-1.0.9-cp310-cp310-win_amd64.whl (18 kB)\n",
      "Collecting cymem<2.1.0,>=2.0.2 (from spacy)\n",
      "  Using cached cymem-2.0.7-cp310-cp310-win_amd64.whl (29 kB)\n",
      "Collecting preshed<3.1.0,>=3.0.2 (from spacy)\n",
      "  Using cached preshed-3.0.8-cp310-cp310-win_amd64.whl (94 kB)\n",
      "Collecting thinc<8.2.0,>=8.1.8 (from spacy)\n",
      "  Obtaining dependency information for thinc<8.2.0,>=8.1.8 from https://files.pythonhosted.org/packages/c0/a9/6b250ddb2dd4006051332bca3ff1c60562e643a39f6f9b0f71a9806602e1/thinc-8.1.12-cp310-cp310-win_amd64.whl.metadata\n",
      "  Downloading thinc-8.1.12-cp310-cp310-win_amd64.whl.metadata (15 kB)\n",
      "Collecting wasabi<1.2.0,>=0.9.1 (from spacy)\n",
      "  Obtaining dependency information for wasabi<1.2.0,>=0.9.1 from https://files.pythonhosted.org/packages/8f/69/26cbf0bad11703241cb84d5324d868097f7a8faf2f1888354dac8883f3fc/wasabi-1.1.2-py3-none-any.whl.metadata\n",
      "  Downloading wasabi-1.1.2-py3-none-any.whl.metadata (28 kB)\n",
      "Collecting srsly<3.0.0,>=2.4.3 (from spacy)\n",
      "  Obtaining dependency information for srsly<3.0.0,>=2.4.3 from https://files.pythonhosted.org/packages/8d/e3/60769ee9b07a41aa9def88a78d884447f613ef6a7fae0f40f24886a98030/srsly-2.4.7-cp310-cp310-win_amd64.whl.metadata\n",
      "  Downloading srsly-2.4.7-cp310-cp310-win_amd64.whl.metadata (20 kB)\n",
      "Collecting catalogue<2.1.0,>=2.0.6 (from spacy)\n",
      "  Obtaining dependency information for catalogue<2.1.0,>=2.0.6 from https://files.pythonhosted.org/packages/45/8f/5b73efc14e0373d9bb0de6ce1ab04a8f77420dc473f1f3ef270caf085cff/catalogue-2.0.9-py3-none-any.whl.metadata\n",
      "  Downloading catalogue-2.0.9-py3-none-any.whl.metadata (14 kB)\n",
      "Collecting typer<0.10.0,>=0.3.0 (from spacy)\n",
      "  Downloading typer-0.9.0-py3-none-any.whl (45 kB)\n",
      "     ---------------------------------------- 0.0/45.9 kB ? eta -:--:--\n",
      "     ---------------------------------------- 45.9/45.9 kB ? eta 0:00:00\n",
      "Collecting pathy>=0.10.0 (from spacy)\n",
      "  Obtaining dependency information for pathy>=0.10.0 from https://files.pythonhosted.org/packages/b5/c3/04a002ace658133f5ac48d30258ed9ceab720595dc1ac36df02fe52018af/pathy-0.10.2-py3-none-any.whl.metadata\n",
      "  Downloading pathy-0.10.2-py3-none-any.whl.metadata (16 kB)\n",
      "Requirement already satisfied: smart-open<7.0.0,>=5.2.1 in c:\\users\\abhilash\\anaconda3\\envs\\nlp\\lib\\site-packages (from spacy) (6.3.0)\n",
      "Requirement already satisfied: tqdm<5.0.0,>=4.38.0 in c:\\users\\abhilash\\anaconda3\\envs\\nlp\\lib\\site-packages (from spacy) (4.65.0)\n",
      "Requirement already satisfied: numpy>=1.15.0 in c:\\users\\abhilash\\anaconda3\\envs\\nlp\\lib\\site-packages (from spacy) (1.24.3)\n",
      "Requirement already satisfied: requests<3.0.0,>=2.13.0 in c:\\users\\abhilash\\anaconda3\\envs\\nlp\\lib\\site-packages (from spacy) (2.31.0)\n",
      "Collecting pydantic!=1.8,!=1.8.1,<3.0.0,>=1.7.4 (from spacy)\n",
      "  Obtaining dependency information for pydantic!=1.8,!=1.8.1,<3.0.0,>=1.7.4 from https://files.pythonhosted.org/packages/82/06/fafdc75e48b248eff364b4249af4bcc6952225e8f20e8205820afc66e88e/pydantic-2.3.0-py3-none-any.whl.metadata\n",
      "  Downloading pydantic-2.3.0-py3-none-any.whl.metadata (148 kB)\n",
      "     ---------------------------------------- 0.0/148.8 kB ? eta -:--:--\n",
      "     -------------------------------------- 148.8/148.8 kB 9.2 MB/s eta 0:00:00\n",
      "Requirement already satisfied: jinja2 in c:\\users\\abhilash\\anaconda3\\envs\\nlp\\lib\\site-packages (from spacy) (3.1.2)\n",
      "Requirement already satisfied: setuptools in c:\\users\\abhilash\\anaconda3\\envs\\nlp\\lib\\site-packages (from spacy) (68.0.0)\n",
      "Requirement already satisfied: packaging>=20.0 in c:\\users\\abhilash\\anaconda3\\envs\\nlp\\lib\\site-packages (from spacy) (23.1)\n",
      "Collecting langcodes<4.0.0,>=3.2.0 (from spacy)\n",
      "  Using cached langcodes-3.3.0-py3-none-any.whl (181 kB)\n",
      "Collecting annotated-types>=0.4.0 (from pydantic!=1.8,!=1.8.1,<3.0.0,>=1.7.4->spacy)\n",
      "  Obtaining dependency information for annotated-types>=0.4.0 from https://files.pythonhosted.org/packages/d8/f0/a2ee543a96cc624c35a9086f39b1ed2aa403c6d355dfe47a11ee5c64a164/annotated_types-0.5.0-py3-none-any.whl.metadata\n",
      "  Downloading annotated_types-0.5.0-py3-none-any.whl.metadata (11 kB)\n",
      "Collecting pydantic-core==2.6.3 (from pydantic!=1.8,!=1.8.1,<3.0.0,>=1.7.4->spacy)\n",
      "  Obtaining dependency information for pydantic-core==2.6.3 from https://files.pythonhosted.org/packages/63/af/869dd176247e855468249bcdb873103146c6b41d52b12a7c6ffc5d30462f/pydantic_core-2.6.3-cp310-none-win_amd64.whl.metadata\n",
      "  Downloading pydantic_core-2.6.3-cp310-none-win_amd64.whl.metadata (6.6 kB)\n",
      "Collecting typing-extensions>=4.6.1 (from pydantic!=1.8,!=1.8.1,<3.0.0,>=1.7.4->spacy)\n",
      "  Obtaining dependency information for typing-extensions>=4.6.1 from https://files.pythonhosted.org/packages/ec/6b/63cc3df74987c36fe26157ee12e09e8f9db4de771e0f3404263117e75b95/typing_extensions-4.7.1-py3-none-any.whl.metadata\n",
      "  Using cached typing_extensions-4.7.1-py3-none-any.whl.metadata (3.1 kB)\n",
      "Requirement already satisfied: charset-normalizer<4,>=2 in c:\\users\\abhilash\\anaconda3\\envs\\nlp\\lib\\site-packages (from requests<3.0.0,>=2.13.0->spacy) (3.2.0)\n",
      "Requirement already satisfied: idna<4,>=2.5 in c:\\users\\abhilash\\anaconda3\\envs\\nlp\\lib\\site-packages (from requests<3.0.0,>=2.13.0->spacy) (3.4)\n",
      "Requirement already satisfied: urllib3<3,>=1.21.1 in c:\\users\\abhilash\\anaconda3\\envs\\nlp\\lib\\site-packages (from requests<3.0.0,>=2.13.0->spacy) (1.26.16)\n",
      "Requirement already satisfied: certifi>=2017.4.17 in c:\\users\\abhilash\\anaconda3\\envs\\nlp\\lib\\site-packages (from requests<3.0.0,>=2.13.0->spacy) (2023.7.22)\n",
      "Collecting blis<0.8.0,>=0.7.8 (from thinc<8.2.0,>=8.1.8->spacy)\n",
      "  Obtaining dependency information for blis<0.8.0,>=0.7.8 from https://files.pythonhosted.org/packages/f2/3e/2af66dc38327ade0d37b4ed519ff05bd8b329cf88c2263778a2c595486a4/blis-0.7.10-cp310-cp310-win_amd64.whl.metadata\n",
      "  Downloading blis-0.7.10-cp310-cp310-win_amd64.whl.metadata (7.6 kB)\n",
      "Collecting confection<1.0.0,>=0.0.1 (from thinc<8.2.0,>=8.1.8->spacy)\n",
      "  Obtaining dependency information for confection<1.0.0,>=0.0.1 from https://files.pythonhosted.org/packages/05/5e/1a56e81e3335ce18f6742539edd2f6ea98bbf477fefc9a4dc5c0694bace4/confection-0.1.1-py3-none-any.whl.metadata\n",
      "  Downloading confection-0.1.1-py3-none-any.whl.metadata (19 kB)\n",
      "Requirement already satisfied: colorama in c:\\users\\abhilash\\anaconda3\\envs\\nlp\\lib\\site-packages (from tqdm<5.0.0,>=4.38.0->spacy) (0.4.6)\n",
      "Requirement already satisfied: click<9.0.0,>=7.1.1 in c:\\users\\abhilash\\anaconda3\\envs\\nlp\\lib\\site-packages (from typer<0.10.0,>=0.3.0->spacy) (8.1.6)\n",
      "Requirement already satisfied: MarkupSafe>=2.0 in c:\\users\\abhilash\\anaconda3\\envs\\nlp\\lib\\site-packages (from jinja2->spacy) (2.1.3)\n",
      "Downloading spacy-3.6.1-cp310-cp310-win_amd64.whl (12.0 MB)\n",
      "   ---------------------------------------- 0.0/12.0 MB ? eta -:--:--\n",
      "   - -------------------------------------- 0.5/12.0 MB 10.5 MB/s eta 0:00:02\n",
      "   -- ------------------------------------- 0.9/12.0 MB 9.4 MB/s eta 0:00:02\n",
      "   ---- ----------------------------------- 1.3/12.0 MB 9.2 MB/s eta 0:00:02\n",
      "   ----- ---------------------------------- 1.7/12.0 MB 9.0 MB/s eta 0:00:02\n",
      "   ------- -------------------------------- 2.1/12.0 MB 9.1 MB/s eta 0:00:02\n",
      "   -------- ------------------------------- 2.5/12.0 MB 8.8 MB/s eta 0:00:02\n",
      "   --------- ------------------------------ 2.8/12.0 MB 8.4 MB/s eta 0:00:02\n",
      "   ---------- ----------------------------- 3.1/12.0 MB 8.2 MB/s eta 0:00:02\n",
      "   ----------- ---------------------------- 3.4/12.0 MB 8.0 MB/s eta 0:00:02\n",
      "   ------------ --------------------------- 3.7/12.0 MB 7.9 MB/s eta 0:00:02\n",
      "   ------------- -------------------------- 4.0/12.0 MB 7.7 MB/s eta 0:00:02\n",
      "   -------------- ------------------------- 4.3/12.0 MB 7.8 MB/s eta 0:00:01\n",
      "   --------------- ------------------------ 4.6/12.0 MB 7.8 MB/s eta 0:00:01\n",
      "   ---------------- ----------------------- 4.9/12.0 MB 7.7 MB/s eta 0:00:01\n",
      "   ----------------- ---------------------- 5.3/12.0 MB 7.7 MB/s eta 0:00:01\n",
      "   ------------------ --------------------- 5.6/12.0 MB 7.6 MB/s eta 0:00:01\n",
      "   ------------------- -------------------- 5.9/12.0 MB 7.6 MB/s eta 0:00:01\n",
      "   -------------------- ------------------- 6.3/12.0 MB 7.6 MB/s eta 0:00:01\n",
      "   ---------------------- ----------------- 6.6/12.0 MB 7.6 MB/s eta 0:00:01\n",
      "   ----------------------- ---------------- 7.0/12.0 MB 7.6 MB/s eta 0:00:01\n",
      "   ------------------------ --------------- 7.4/12.0 MB 7.6 MB/s eta 0:00:01\n",
      "   ------------------------- -------------- 7.7/12.0 MB 7.6 MB/s eta 0:00:01\n",
      "   --------------------------- ------------ 8.1/12.0 MB 7.6 MB/s eta 0:00:01\n",
      "   ---------------------------- ----------- 8.5/12.0 MB 7.6 MB/s eta 0:00:01\n",
      "   ----------------------------- ---------- 8.9/12.0 MB 7.6 MB/s eta 0:00:01\n",
      "   ------------------------------ --------- 9.3/12.0 MB 7.7 MB/s eta 0:00:01\n",
      "   -------------------------------- ------- 9.6/12.0 MB 7.7 MB/s eta 0:00:01\n",
      "   --------------------------------- ------ 10.1/12.0 MB 7.7 MB/s eta 0:00:01\n",
      "   ---------------------------------- ----- 10.4/12.0 MB 7.7 MB/s eta 0:00:01\n",
      "   ------------------------------------ --- 10.8/12.0 MB 7.7 MB/s eta 0:00:01\n",
      "   ------------------------------------- -- 11.2/12.0 MB 7.6 MB/s eta 0:00:01\n",
      "   -------------------------------------- - 11.7/12.0 MB 7.7 MB/s eta 0:00:01\n",
      "   ---------------------------------------  12.0/12.0 MB 7.6 MB/s eta 0:00:01\n",
      "   ---------------------------------------  12.0/12.0 MB 7.6 MB/s eta 0:00:01\n",
      "   ---------------------------------------- 12.0/12.0 MB 7.3 MB/s eta 0:00:00\n",
      "Downloading catalogue-2.0.9-py3-none-any.whl (17 kB)\n",
      "Downloading pathy-0.10.2-py3-none-any.whl (48 kB)\n",
      "   ---------------------------------------- 0.0/48.9 kB ? eta -:--:--\n",
      "   ---------------------------------------- 48.9/48.9 kB 2.4 MB/s eta 0:00:00\n",
      "Downloading pydantic-2.3.0-py3-none-any.whl (374 kB)\n",
      "   ---------------------------------------- 0.0/374.5 kB ? eta -:--:--\n",
      "   --------------------------------------  368.6/374.5 kB 11.6 MB/s eta 0:00:01\n",
      "   --------------------------------------- 374.5/374.5 kB 11.8 MB/s eta 0:00:00\n",
      "Downloading pydantic_core-2.6.3-cp310-none-win_amd64.whl (1.7 MB)\n",
      "   ---------------------------------------- 0.0/1.7 MB ? eta -:--:--\n",
      "   ---------- ----------------------------- 0.5/1.7 MB 9.6 MB/s eta 0:00:01\n",
      "   ------------------- -------------------- 0.9/1.7 MB 9.2 MB/s eta 0:00:01\n",
      "   ------------------------------ --------- 1.3/1.7 MB 9.4 MB/s eta 0:00:01\n",
      "   ---------------------------------------  1.7/1.7 MB 9.2 MB/s eta 0:00:01\n",
      "   ---------------------------------------- 1.7/1.7 MB 8.5 MB/s eta 0:00:00\n",
      "Downloading srsly-2.4.7-cp310-cp310-win_amd64.whl (481 kB)\n",
      "   ---------------------------------------- 0.0/481.6 kB ? eta -:--:--\n",
      "   ----------------------------- --------- 368.6/481.6 kB 11.6 MB/s eta 0:00:01\n",
      "   --------------------------------------- 481.6/481.6 kB 10.0 MB/s eta 0:00:00\n",
      "Downloading thinc-8.1.12-cp310-cp310-win_amd64.whl (1.5 MB)\n",
      "   ---------------------------------------- 0.0/1.5 MB ? eta -:--:--\n",
      "   ----------- ---------------------------- 0.4/1.5 MB 12.9 MB/s eta 0:00:01\n",
      "   ----------------------- ---------------- 0.9/1.5 MB 10.9 MB/s eta 0:00:01\n",
      "   ----------------------------------- ---- 1.3/1.5 MB 10.3 MB/s eta 0:00:01\n",
      "   ---------------------------------------  1.5/1.5 MB 10.5 MB/s eta 0:00:01\n",
      "   ---------------------------------------- 1.5/1.5 MB 7.9 MB/s eta 0:00:00\n",
      "Downloading wasabi-1.1.2-py3-none-any.whl (27 kB)\n",
      "Downloading annotated_types-0.5.0-py3-none-any.whl (11 kB)\n",
      "Downloading blis-0.7.10-cp310-cp310-win_amd64.whl (7.4 MB)\n",
      "   ---------------------------------------- 0.0/7.4 MB ? eta -:--:--\n",
      "   - -------------------------------------- 0.4/7.4 MB 11.6 MB/s eta 0:00:01\n",
      "   ---- ----------------------------------- 0.8/7.4 MB 10.8 MB/s eta 0:00:01\n",
      "   ------- -------------------------------- 1.3/7.4 MB 10.6 MB/s eta 0:00:01\n",
      "   --------- ------------------------------ 1.8/7.4 MB 10.4 MB/s eta 0:00:01\n",
      "   ------------ --------------------------- 2.3/7.4 MB 10.4 MB/s eta 0:00:01\n",
      "   -------------- ------------------------- 2.8/7.4 MB 10.4 MB/s eta 0:00:01\n",
      "   ----------------- ---------------------- 3.2/7.4 MB 10.3 MB/s eta 0:00:01\n",
      "   -------------------- ------------------- 3.7/7.4 MB 10.3 MB/s eta 0:00:01\n",
      "   ---------------------- ----------------- 4.2/7.4 MB 10.4 MB/s eta 0:00:01\n",
      "   ------------------------- -------------- 4.7/7.4 MB 10.4 MB/s eta 0:00:01\n",
      "   ---------------------------- ----------- 5.3/7.4 MB 10.5 MB/s eta 0:00:01\n",
      "   ------------------------------ --------- 5.7/7.4 MB 10.5 MB/s eta 0:00:01\n",
      "   --------------------------------- ------ 6.3/7.4 MB 10.6 MB/s eta 0:00:01\n",
      "   ------------------------------------ --- 6.8/7.4 MB 10.6 MB/s eta 0:00:01\n",
      "   ---------------------------------------  7.3/7.4 MB 10.6 MB/s eta 0:00:01\n",
      "   ---------------------------------------  7.4/7.4 MB 10.5 MB/s eta 0:00:01\n",
      "   ---------------------------------------- 7.4/7.4 MB 10.1 MB/s eta 0:00:00\n",
      "Downloading confection-0.1.1-py3-none-any.whl (34 kB)\n",
      "Using cached typing_extensions-4.7.1-py3-none-any.whl (33 kB)\n",
      "Installing collected packages: cymem, wasabi, typing-extensions, spacy-loggers, spacy-legacy, murmurhash, langcodes, catalogue, blis, annotated-types, typer, srsly, pydantic-core, preshed, pydantic, pathy, confection, thinc, spacy\n",
      "  Attempting uninstall: typing-extensions\n",
      "    Found existing installation: typing_extensions 4.5.0\n",
      "    Uninstalling typing_extensions-4.5.0:\n",
      "      Successfully uninstalled typing_extensions-4.5.0\n",
      "Successfully installed annotated-types-0.5.0 blis-0.7.10 catalogue-2.0.9 confection-0.1.1 cymem-2.0.7 langcodes-3.3.0 murmurhash-1.0.9 pathy-0.10.2 preshed-3.0.8 pydantic-2.3.0 pydantic-core-2.6.3 spacy-3.6.1 spacy-legacy-3.0.12 spacy-loggers-1.0.4 srsly-2.4.7 thinc-8.1.12 typer-0.9.0 typing-extensions-4.7.1 wasabi-1.1.2\n"
     ]
    },
    {
     "name": "stderr",
     "output_type": "stream",
     "text": [
      "ERROR: pip's dependency resolver does not currently take into account all the packages that are installed. This behaviour is the source of the following dependency conflicts.\n",
      "tensorflow-intel 2.13.0 requires typing-extensions<4.6.0,>=3.6.6, but you have typing-extensions 4.7.1 which is incompatible.\n",
      "torchaudio 2.0.2 requires torch==2.0.1, but you have torch 2.0.0 which is incompatible.\n",
      "torchvision 0.15.2 requires torch==2.0.1, but you have torch 2.0.0 which is incompatible.\n"
     ]
    }
   ],
   "source": [
    "!pip install spacy"
   ]
  },
  {
   "cell_type": "code",
   "execution_count": 1,
   "metadata": {},
   "outputs": [],
   "source": [
    "txt = (\"Given the recent downturn in stocks especially in tech which is likely to persist as yields keep going up, \"\n",
    "       \"I thought it would be prudent to share the risks of investing in ARK ETFs, written up very nicely by \"\n",
    "       \"[The Bear Cave](https://thebearcave.substack.com/p/special-edition-will-ark-invest-blow). The risks comes \"\n",
    "       \"primarily from ARK's illiquid and very large holdings in small cap companies. ARK is forced to sell its \"\n",
    "       \"holdings whenever its liquid ETF gets hit with outflows as is especially the case in market downturns. \"\n",
    "       \"This could force very painful liquidations at unfavorable prices and the ensuing crash goes into a \"\n",
    "       \"positive feedback loop leading into a death spiral enticing even more outflows and predatory shorts.\")"
   ]
  },
  {
   "cell_type": "code",
   "execution_count": 2,
   "metadata": {},
   "outputs": [],
   "source": [
    "import spacy"
   ]
  },
  {
   "cell_type": "code",
   "execution_count": 5,
   "metadata": {},
   "outputs": [
    {
     "name": "stdout",
     "output_type": "stream",
     "text": [
      "Collecting en-core-web-md==3.6.0\n",
      "  Downloading https://github.com/explosion/spacy-models/releases/download/en_core_web_md-3.6.0/en_core_web_md-3.6.0-py3-none-any.whl (42.8 MB)\n",
      "     ---------------------------------------- 0.0/42.8 MB ? eta -:--:--\n",
      "     ---------------------------------------- 0.0/42.8 MB ? eta -:--:--\n",
      "     --------------------------------------- 0.0/42.8 MB 435.7 kB/s eta 0:01:39\n",
      "     --------------------------------------- 0.1/42.8 MB 657.6 kB/s eta 0:01:05\n",
      "     ---------------------------------------- 0.2/42.8 MB 1.4 MB/s eta 0:00:31\n",
      "     ---------------------------------------- 0.5/42.8 MB 2.4 MB/s eta 0:00:18\n",
      "      --------------------------------------- 0.6/42.8 MB 2.7 MB/s eta 0:00:16\n",
      "      --------------------------------------- 0.8/42.8 MB 2.8 MB/s eta 0:00:15\n",
      "     - -------------------------------------- 1.4/42.8 MB 4.0 MB/s eta 0:00:11\n",
      "     - -------------------------------------- 1.4/42.8 MB 4.0 MB/s eta 0:00:11\n",
      "     - -------------------------------------- 2.0/42.8 MB 4.8 MB/s eta 0:00:09\n",
      "     -- ------------------------------------- 2.5/42.8 MB 5.1 MB/s eta 0:00:08\n",
      "     -- ------------------------------------- 2.7/42.8 MB 5.1 MB/s eta 0:00:08\n",
      "     -- ------------------------------------- 2.9/42.8 MB 5.0 MB/s eta 0:00:08\n",
      "     -- ------------------------------------- 3.1/42.8 MB 5.0 MB/s eta 0:00:08\n",
      "     --- ------------------------------------ 3.4/42.8 MB 5.0 MB/s eta 0:00:08\n",
      "     --- ------------------------------------ 3.6/42.8 MB 5.0 MB/s eta 0:00:08\n",
      "     --- ------------------------------------ 3.9/42.8 MB 5.1 MB/s eta 0:00:08\n",
      "     --- ------------------------------------ 4.1/42.8 MB 5.1 MB/s eta 0:00:08\n",
      "     ---- ----------------------------------- 4.4/42.8 MB 5.1 MB/s eta 0:00:08\n",
      "     ---- ----------------------------------- 4.6/42.8 MB 5.1 MB/s eta 0:00:08\n",
      "     ---- ----------------------------------- 4.8/42.8 MB 5.1 MB/s eta 0:00:08\n",
      "     ---- ----------------------------------- 5.1/42.8 MB 5.1 MB/s eta 0:00:08\n",
      "     ----- ---------------------------------- 5.4/42.8 MB 5.1 MB/s eta 0:00:08\n",
      "     ----- ---------------------------------- 5.6/42.8 MB 5.1 MB/s eta 0:00:08\n",
      "     ----- ---------------------------------- 5.9/42.8 MB 5.2 MB/s eta 0:00:08\n",
      "     ----- ---------------------------------- 6.2/42.8 MB 5.2 MB/s eta 0:00:08\n",
      "     ----- ---------------------------------- 6.4/42.8 MB 5.2 MB/s eta 0:00:08\n",
      "     ------ --------------------------------- 6.7/42.8 MB 5.2 MB/s eta 0:00:07\n",
      "     ------ --------------------------------- 7.0/42.8 MB 5.2 MB/s eta 0:00:07\n",
      "     ------ --------------------------------- 7.2/42.8 MB 5.2 MB/s eta 0:00:07\n",
      "     ------ --------------------------------- 7.5/42.8 MB 5.2 MB/s eta 0:00:07\n",
      "     ------- -------------------------------- 7.8/42.8 MB 5.3 MB/s eta 0:00:07\n",
      "     ------- -------------------------------- 8.0/42.8 MB 5.3 MB/s eta 0:00:07\n",
      "     ------- -------------------------------- 8.3/42.8 MB 5.3 MB/s eta 0:00:07\n",
      "     -------- ------------------------------- 8.6/42.8 MB 5.4 MB/s eta 0:00:07\n",
      "     -------- ------------------------------- 8.8/42.8 MB 5.3 MB/s eta 0:00:07\n",
      "     -------- ------------------------------- 9.1/42.8 MB 5.4 MB/s eta 0:00:07\n",
      "     -------- ------------------------------- 9.4/42.8 MB 5.4 MB/s eta 0:00:07\n",
      "     --------- ------------------------------ 9.7/42.8 MB 5.4 MB/s eta 0:00:07\n",
      "     --------- ------------------------------ 10.0/42.8 MB 5.4 MB/s eta 0:00:07\n",
      "     --------- ------------------------------ 10.2/42.8 MB 5.4 MB/s eta 0:00:07\n",
      "     --------- ------------------------------ 10.5/42.8 MB 5.8 MB/s eta 0:00:06\n",
      "     ---------- ----------------------------- 10.8/42.8 MB 5.8 MB/s eta 0:00:06\n",
      "     ---------- ----------------------------- 11.0/42.8 MB 6.0 MB/s eta 0:00:06\n",
      "     ---------- ----------------------------- 11.3/42.8 MB 6.0 MB/s eta 0:00:06\n",
      "     ---------- ----------------------------- 11.6/42.8 MB 5.8 MB/s eta 0:00:06\n",
      "     ----------- ---------------------------- 11.9/42.8 MB 5.9 MB/s eta 0:00:06\n",
      "     ----------- ---------------------------- 12.2/42.8 MB 5.7 MB/s eta 0:00:06\n",
      "     ----------- ---------------------------- 12.5/42.8 MB 5.8 MB/s eta 0:00:06\n",
      "     ----------- ---------------------------- 12.7/42.8 MB 5.6 MB/s eta 0:00:06\n",
      "     ------------ --------------------------- 13.0/42.8 MB 5.7 MB/s eta 0:00:06\n",
      "     ------------ --------------------------- 13.3/42.8 MB 5.7 MB/s eta 0:00:06\n",
      "     ------------ --------------------------- 13.5/42.8 MB 5.7 MB/s eta 0:00:06\n",
      "     ------------ --------------------------- 13.8/42.8 MB 5.8 MB/s eta 0:00:05\n",
      "     ------------- -------------------------- 14.1/42.8 MB 5.8 MB/s eta 0:00:05\n",
      "     ------------- -------------------------- 14.4/42.8 MB 5.8 MB/s eta 0:00:05\n",
      "     ------------- -------------------------- 14.7/42.8 MB 5.8 MB/s eta 0:00:05\n",
      "     ------------- -------------------------- 15.0/42.8 MB 5.8 MB/s eta 0:00:05\n",
      "     -------------- ------------------------- 15.2/42.8 MB 5.8 MB/s eta 0:00:05\n",
      "     -------------- ------------------------- 15.5/42.8 MB 5.9 MB/s eta 0:00:05\n",
      "     -------------- ------------------------- 15.8/42.8 MB 5.9 MB/s eta 0:00:05\n",
      "     -------------- ------------------------- 16.0/42.8 MB 6.0 MB/s eta 0:00:05\n",
      "     --------------- ------------------------ 16.4/42.8 MB 5.9 MB/s eta 0:00:05\n",
      "     --------------- ------------------------ 16.6/42.8 MB 6.0 MB/s eta 0:00:05\n",
      "     --------------- ------------------------ 16.9/42.8 MB 6.0 MB/s eta 0:00:05\n",
      "     ---------------- ----------------------- 17.2/42.8 MB 6.0 MB/s eta 0:00:05\n",
      "     ---------------- ----------------------- 17.5/42.8 MB 6.0 MB/s eta 0:00:05\n",
      "     ---------------- ----------------------- 17.8/42.8 MB 6.0 MB/s eta 0:00:05\n",
      "     ---------------- ----------------------- 18.1/42.8 MB 6.1 MB/s eta 0:00:05\n",
      "     ----------------- ---------------------- 18.4/42.8 MB 6.1 MB/s eta 0:00:05\n",
      "     ----------------- ---------------------- 18.7/42.8 MB 6.1 MB/s eta 0:00:04\n",
      "     ----------------- ---------------------- 19.0/42.8 MB 6.1 MB/s eta 0:00:04\n",
      "     ------------------ --------------------- 19.3/42.8 MB 6.1 MB/s eta 0:00:04\n",
      "     ------------------ --------------------- 19.6/42.8 MB 6.1 MB/s eta 0:00:04\n",
      "     ------------------ --------------------- 19.9/42.8 MB 6.1 MB/s eta 0:00:04\n",
      "     ------------------ --------------------- 20.2/42.8 MB 6.2 MB/s eta 0:00:04\n",
      "     ------------------- -------------------- 20.5/42.8 MB 6.2 MB/s eta 0:00:04\n",
      "     ------------------- -------------------- 20.8/42.8 MB 6.2 MB/s eta 0:00:04\n",
      "     ------------------- -------------------- 21.1/42.8 MB 6.2 MB/s eta 0:00:04\n",
      "     -------------------- ------------------- 21.4/42.8 MB 6.2 MB/s eta 0:00:04\n",
      "     -------------------- ------------------- 21.7/42.8 MB 6.2 MB/s eta 0:00:04\n",
      "     -------------------- ------------------- 22.0/42.8 MB 6.2 MB/s eta 0:00:04\n",
      "     -------------------- ------------------- 22.4/42.8 MB 6.3 MB/s eta 0:00:04\n",
      "     --------------------- ------------------ 22.6/42.8 MB 6.3 MB/s eta 0:00:04\n",
      "     --------------------- ------------------ 22.9/42.8 MB 6.3 MB/s eta 0:00:04\n",
      "     --------------------- ------------------ 23.2/42.8 MB 6.4 MB/s eta 0:00:04\n",
      "     ---------------------- ----------------- 23.6/42.8 MB 6.4 MB/s eta 0:00:04\n",
      "     ---------------------- ----------------- 23.9/42.8 MB 6.4 MB/s eta 0:00:03\n",
      "     ---------------------- ----------------- 24.2/42.8 MB 6.4 MB/s eta 0:00:03\n",
      "     ---------------------- ----------------- 24.5/42.8 MB 6.4 MB/s eta 0:00:03\n",
      "     ----------------------- ---------------- 24.8/42.8 MB 6.4 MB/s eta 0:00:03\n",
      "     ----------------------- ---------------- 25.1/42.8 MB 6.4 MB/s eta 0:00:03\n",
      "     ----------------------- ---------------- 25.5/42.8 MB 6.5 MB/s eta 0:00:03\n",
      "     ------------------------ --------------- 25.8/42.8 MB 6.5 MB/s eta 0:00:03\n",
      "     ------------------------ --------------- 26.1/42.8 MB 6.5 MB/s eta 0:00:03\n",
      "     ------------------------ --------------- 26.3/42.8 MB 6.5 MB/s eta 0:00:03\n",
      "     ------------------------ --------------- 26.7/42.8 MB 6.5 MB/s eta 0:00:03\n",
      "     ------------------------- -------------- 27.0/42.8 MB 6.6 MB/s eta 0:00:03\n",
      "     ------------------------- -------------- 27.3/42.8 MB 6.5 MB/s eta 0:00:03\n",
      "     ------------------------- -------------- 27.7/42.8 MB 6.6 MB/s eta 0:00:03\n",
      "     -------------------------- ------------- 28.0/42.8 MB 6.7 MB/s eta 0:00:03\n",
      "     -------------------------- ------------- 28.3/42.8 MB 6.7 MB/s eta 0:00:03\n",
      "     -------------------------- ------------- 28.7/42.8 MB 6.7 MB/s eta 0:00:03\n",
      "     --------------------------- ------------ 29.0/42.8 MB 6.7 MB/s eta 0:00:03\n",
      "     --------------------------- ------------ 29.3/42.8 MB 6.7 MB/s eta 0:00:03\n",
      "     --------------------------- ------------ 29.6/42.8 MB 6.8 MB/s eta 0:00:02\n",
      "     ---------------------------- ----------- 30.0/42.8 MB 6.8 MB/s eta 0:00:02\n",
      "     ---------------------------- ----------- 30.3/42.8 MB 6.7 MB/s eta 0:00:02\n",
      "     ---------------------------- ----------- 30.6/42.8 MB 6.8 MB/s eta 0:00:02\n",
      "     ---------------------------- ----------- 31.0/42.8 MB 6.8 MB/s eta 0:00:02\n",
      "     ----------------------------- ---------- 31.3/42.8 MB 6.9 MB/s eta 0:00:02\n",
      "     ----------------------------- ---------- 31.7/42.8 MB 6.9 MB/s eta 0:00:02\n",
      "     ----------------------------- ---------- 32.0/42.8 MB 6.9 MB/s eta 0:00:02\n",
      "     ------------------------------ --------- 32.2/42.8 MB 6.8 MB/s eta 0:00:02\n",
      "     ------------------------------ --------- 32.6/42.8 MB 6.8 MB/s eta 0:00:02\n",
      "     ------------------------------ --------- 32.9/42.8 MB 7.0 MB/s eta 0:00:02\n",
      "     ------------------------------- -------- 33.3/42.8 MB 7.0 MB/s eta 0:00:02\n",
      "     ------------------------------- -------- 33.6/42.8 MB 7.0 MB/s eta 0:00:02\n",
      "     ------------------------------- -------- 34.0/42.8 MB 7.0 MB/s eta 0:00:02\n",
      "     -------------------------------- ------- 34.3/42.8 MB 7.0 MB/s eta 0:00:02\n",
      "     -------------------------------- ------- 34.6/42.8 MB 7.0 MB/s eta 0:00:02\n",
      "     -------------------------------- ------- 35.0/42.8 MB 7.0 MB/s eta 0:00:02\n",
      "     --------------------------------- ------ 35.4/42.8 MB 7.1 MB/s eta 0:00:02\n",
      "     --------------------------------- ------ 35.7/42.8 MB 7.1 MB/s eta 0:00:01\n",
      "     --------------------------------- ------ 36.1/42.8 MB 7.1 MB/s eta 0:00:01\n",
      "     ---------------------------------- ----- 36.4/42.8 MB 7.1 MB/s eta 0:00:01\n",
      "     ---------------------------------- ----- 36.8/42.8 MB 7.2 MB/s eta 0:00:01\n",
      "     ---------------------------------- ----- 37.1/42.8 MB 7.3 MB/s eta 0:00:01\n",
      "     ----------------------------------- ---- 37.5/42.8 MB 7.3 MB/s eta 0:00:01\n",
      "     ----------------------------------- ---- 37.8/42.8 MB 7.3 MB/s eta 0:00:01\n",
      "     ----------------------------------- ---- 38.2/42.8 MB 7.4 MB/s eta 0:00:01\n",
      "     ------------------------------------ --- 38.6/42.8 MB 7.4 MB/s eta 0:00:01\n",
      "     ------------------------------------ --- 38.9/42.8 MB 7.4 MB/s eta 0:00:01\n",
      "     ------------------------------------ --- 39.3/42.8 MB 7.4 MB/s eta 0:00:01\n",
      "     ------------------------------------- -- 39.6/42.8 MB 7.4 MB/s eta 0:00:01\n",
      "     ------------------------------------- -- 40.0/42.8 MB 7.4 MB/s eta 0:00:01\n",
      "     ------------------------------------- -- 40.4/42.8 MB 7.4 MB/s eta 0:00:01\n",
      "     -------------------------------------- - 40.7/42.8 MB 7.5 MB/s eta 0:00:01\n",
      "     -------------------------------------- - 41.1/42.8 MB 7.5 MB/s eta 0:00:01\n",
      "     -------------------------------------- - 41.5/42.8 MB 7.5 MB/s eta 0:00:01\n",
      "     ---------------------------------------  41.8/42.8 MB 7.5 MB/s eta 0:00:01\n",
      "     ---------------------------------------  42.2/42.8 MB 7.5 MB/s eta 0:00:01\n",
      "     ---------------------------------------  42.6/42.8 MB 7.6 MB/s eta 0:00:01\n",
      "     ---------------------------------------  42.8/42.8 MB 7.6 MB/s eta 0:00:01\n",
      "     ---------------------------------------  42.8/42.8 MB 7.6 MB/s eta 0:00:01\n",
      "     ---------------------------------------  42.8/42.8 MB 7.6 MB/s eta 0:00:01\n",
      "     ---------------------------------------  42.8/42.8 MB 7.6 MB/s eta 0:00:01\n",
      "     ---------------------------------------  42.8/42.8 MB 7.6 MB/s eta 0:00:01\n",
      "     ---------------------------------------  42.8/42.8 MB 7.6 MB/s eta 0:00:01\n",
      "     ---------------------------------------- 42.8/42.8 MB 6.3 MB/s eta 0:00:00\n",
      "Requirement already satisfied: spacy<3.7.0,>=3.6.0 in c:\\users\\abhilash\\anaconda3\\envs\\nlp\\lib\\site-packages (from en-core-web-md==3.6.0) (3.6.1)\n",
      "Requirement already satisfied: spacy-legacy<3.1.0,>=3.0.11 in c:\\users\\abhilash\\anaconda3\\envs\\nlp\\lib\\site-packages (from spacy<3.7.0,>=3.6.0->en-core-web-md==3.6.0) (3.0.12)\n",
      "Requirement already satisfied: spacy-loggers<2.0.0,>=1.0.0 in c:\\users\\abhilash\\anaconda3\\envs\\nlp\\lib\\site-packages (from spacy<3.7.0,>=3.6.0->en-core-web-md==3.6.0) (1.0.4)\n",
      "Requirement already satisfied: murmurhash<1.1.0,>=0.28.0 in c:\\users\\abhilash\\anaconda3\\envs\\nlp\\lib\\site-packages (from spacy<3.7.0,>=3.6.0->en-core-web-md==3.6.0) (1.0.9)\n",
      "Requirement already satisfied: cymem<2.1.0,>=2.0.2 in c:\\users\\abhilash\\anaconda3\\envs\\nlp\\lib\\site-packages (from spacy<3.7.0,>=3.6.0->en-core-web-md==3.6.0) (2.0.7)\n",
      "Requirement already satisfied: preshed<3.1.0,>=3.0.2 in c:\\users\\abhilash\\anaconda3\\envs\\nlp\\lib\\site-packages (from spacy<3.7.0,>=3.6.0->en-core-web-md==3.6.0) (3.0.8)\n",
      "Requirement already satisfied: thinc<8.2.0,>=8.1.8 in c:\\users\\abhilash\\anaconda3\\envs\\nlp\\lib\\site-packages (from spacy<3.7.0,>=3.6.0->en-core-web-md==3.6.0) (8.1.12)\n",
      "Requirement already satisfied: wasabi<1.2.0,>=0.9.1 in c:\\users\\abhilash\\anaconda3\\envs\\nlp\\lib\\site-packages (from spacy<3.7.0,>=3.6.0->en-core-web-md==3.6.0) (1.1.2)\n",
      "Requirement already satisfied: srsly<3.0.0,>=2.4.3 in c:\\users\\abhilash\\anaconda3\\envs\\nlp\\lib\\site-packages (from spacy<3.7.0,>=3.6.0->en-core-web-md==3.6.0) (2.4.7)\n",
      "Requirement already satisfied: catalogue<2.1.0,>=2.0.6 in c:\\users\\abhilash\\anaconda3\\envs\\nlp\\lib\\site-packages (from spacy<3.7.0,>=3.6.0->en-core-web-md==3.6.0) (2.0.9)\n",
      "Requirement already satisfied: typer<0.10.0,>=0.3.0 in c:\\users\\abhilash\\anaconda3\\envs\\nlp\\lib\\site-packages (from spacy<3.7.0,>=3.6.0->en-core-web-md==3.6.0) (0.9.0)\n",
      "Requirement already satisfied: pathy>=0.10.0 in c:\\users\\abhilash\\anaconda3\\envs\\nlp\\lib\\site-packages (from spacy<3.7.0,>=3.6.0->en-core-web-md==3.6.0) (0.10.2)\n",
      "Requirement already satisfied: smart-open<7.0.0,>=5.2.1 in c:\\users\\abhilash\\anaconda3\\envs\\nlp\\lib\\site-packages (from spacy<3.7.0,>=3.6.0->en-core-web-md==3.6.0) (6.3.0)\n",
      "Requirement already satisfied: tqdm<5.0.0,>=4.38.0 in c:\\users\\abhilash\\anaconda3\\envs\\nlp\\lib\\site-packages (from spacy<3.7.0,>=3.6.0->en-core-web-md==3.6.0) (4.65.0)\n",
      "Requirement already satisfied: numpy>=1.15.0 in c:\\users\\abhilash\\anaconda3\\envs\\nlp\\lib\\site-packages (from spacy<3.7.0,>=3.6.0->en-core-web-md==3.6.0) (1.24.3)\n",
      "Requirement already satisfied: requests<3.0.0,>=2.13.0 in c:\\users\\abhilash\\anaconda3\\envs\\nlp\\lib\\site-packages (from spacy<3.7.0,>=3.6.0->en-core-web-md==3.6.0) (2.31.0)\n",
      "Requirement already satisfied: pydantic!=1.8,!=1.8.1,<3.0.0,>=1.7.4 in c:\\users\\abhilash\\anaconda3\\envs\\nlp\\lib\\site-packages (from spacy<3.7.0,>=3.6.0->en-core-web-md==3.6.0) (2.3.0)\n",
      "Requirement already satisfied: jinja2 in c:\\users\\abhilash\\anaconda3\\envs\\nlp\\lib\\site-packages (from spacy<3.7.0,>=3.6.0->en-core-web-md==3.6.0) (3.1.2)\n",
      "Requirement already satisfied: setuptools in c:\\users\\abhilash\\anaconda3\\envs\\nlp\\lib\\site-packages (from spacy<3.7.0,>=3.6.0->en-core-web-md==3.6.0) (68.0.0)\n",
      "Requirement already satisfied: packaging>=20.0 in c:\\users\\abhilash\\anaconda3\\envs\\nlp\\lib\\site-packages (from spacy<3.7.0,>=3.6.0->en-core-web-md==3.6.0) (23.1)\n",
      "Requirement already satisfied: langcodes<4.0.0,>=3.2.0 in c:\\users\\abhilash\\anaconda3\\envs\\nlp\\lib\\site-packages (from spacy<3.7.0,>=3.6.0->en-core-web-md==3.6.0) (3.3.0)\n",
      "Requirement already satisfied: annotated-types>=0.4.0 in c:\\users\\abhilash\\anaconda3\\envs\\nlp\\lib\\site-packages (from pydantic!=1.8,!=1.8.1,<3.0.0,>=1.7.4->spacy<3.7.0,>=3.6.0->en-core-web-md==3.6.0) (0.5.0)\n",
      "Requirement already satisfied: pydantic-core==2.6.3 in c:\\users\\abhilash\\anaconda3\\envs\\nlp\\lib\\site-packages (from pydantic!=1.8,!=1.8.1,<3.0.0,>=1.7.4->spacy<3.7.0,>=3.6.0->en-core-web-md==3.6.0) (2.6.3)\n",
      "Requirement already satisfied: typing-extensions>=4.6.1 in c:\\users\\abhilash\\anaconda3\\envs\\nlp\\lib\\site-packages (from pydantic!=1.8,!=1.8.1,<3.0.0,>=1.7.4->spacy<3.7.0,>=3.6.0->en-core-web-md==3.6.0) (4.7.1)\n",
      "Requirement already satisfied: charset-normalizer<4,>=2 in c:\\users\\abhilash\\anaconda3\\envs\\nlp\\lib\\site-packages (from requests<3.0.0,>=2.13.0->spacy<3.7.0,>=3.6.0->en-core-web-md==3.6.0) (3.2.0)\n",
      "Requirement already satisfied: idna<4,>=2.5 in c:\\users\\abhilash\\anaconda3\\envs\\nlp\\lib\\site-packages (from requests<3.0.0,>=2.13.0->spacy<3.7.0,>=3.6.0->en-core-web-md==3.6.0) (3.4)\n",
      "Requirement already satisfied: urllib3<3,>=1.21.1 in c:\\users\\abhilash\\anaconda3\\envs\\nlp\\lib\\site-packages (from requests<3.0.0,>=2.13.0->spacy<3.7.0,>=3.6.0->en-core-web-md==3.6.0) (1.26.16)\n",
      "Requirement already satisfied: certifi>=2017.4.17 in c:\\users\\abhilash\\anaconda3\\envs\\nlp\\lib\\site-packages (from requests<3.0.0,>=2.13.0->spacy<3.7.0,>=3.6.0->en-core-web-md==3.6.0) (2023.7.22)\n",
      "Requirement already satisfied: blis<0.8.0,>=0.7.8 in c:\\users\\abhilash\\anaconda3\\envs\\nlp\\lib\\site-packages (from thinc<8.2.0,>=8.1.8->spacy<3.7.0,>=3.6.0->en-core-web-md==3.6.0) (0.7.10)\n",
      "Requirement already satisfied: confection<1.0.0,>=0.0.1 in c:\\users\\abhilash\\anaconda3\\envs\\nlp\\lib\\site-packages (from thinc<8.2.0,>=8.1.8->spacy<3.7.0,>=3.6.0->en-core-web-md==3.6.0) (0.1.1)\n",
      "Requirement already satisfied: colorama in c:\\users\\abhilash\\anaconda3\\envs\\nlp\\lib\\site-packages (from tqdm<5.0.0,>=4.38.0->spacy<3.7.0,>=3.6.0->en-core-web-md==3.6.0) (0.4.6)\n",
      "Requirement already satisfied: click<9.0.0,>=7.1.1 in c:\\users\\abhilash\\anaconda3\\envs\\nlp\\lib\\site-packages (from typer<0.10.0,>=0.3.0->spacy<3.7.0,>=3.6.0->en-core-web-md==3.6.0) (8.1.6)\n",
      "Requirement already satisfied: MarkupSafe>=2.0 in c:\\users\\abhilash\\anaconda3\\envs\\nlp\\lib\\site-packages (from jinja2->spacy<3.7.0,>=3.6.0->en-core-web-md==3.6.0) (2.1.3)\n",
      "Installing collected packages: en-core-web-md\n",
      "Successfully installed en-core-web-md-3.6.0\n",
      "\u001b[38;5;2m✔ Download and installation successful\u001b[0m\n",
      "You can now load the package via spacy.load('en_core_web_md')\n"
     ]
    }
   ],
   "source": [
    "!python -m spacy download en_core_web_md"
   ]
  },
  {
   "cell_type": "code",
   "execution_count": 3,
   "metadata": {},
   "outputs": [],
   "source": [
    "nlp = spacy.load(\"en_core_web_md\")"
   ]
  },
  {
   "cell_type": "code",
   "execution_count": 4,
   "metadata": {},
   "outputs": [],
   "source": [
    "doc = nlp(txt)"
   ]
  },
  {
   "cell_type": "code",
   "execution_count": 5,
   "metadata": {},
   "outputs": [
    {
     "data": {
      "text/plain": [
       "spacy.tokens.doc.Doc"
      ]
     },
     "execution_count": 5,
     "metadata": {},
     "output_type": "execute_result"
    }
   ],
   "source": [
    "type(doc)"
   ]
  },
  {
   "cell_type": "code",
   "execution_count": 6,
   "metadata": {},
   "outputs": [],
   "source": [
    "from spacy import displacy"
   ]
  },
  {
   "cell_type": "code",
   "execution_count": 7,
   "metadata": {},
   "outputs": [
    {
     "data": {
      "text/html": [
       "<span class=\"tex2jax_ignore\"><div class=\"entities\" style=\"line-height: 2.5; direction: ltr\">Given the recent downturn in stocks especially in tech which is likely to persist as yields keep going up, I thought it would be prudent to share the risks of investing in \n",
       "<mark class=\"entity\" style=\"background: #7aecec; padding: 0.45em 0.6em; margin: 0 0.25em; line-height: 1; border-radius: 0.35em;\">\n",
       "    ARK\n",
       "    <span style=\"font-size: 0.8em; font-weight: bold; line-height: 1; border-radius: 0.35em; vertical-align: middle; margin-left: 0.5rem\">ORG</span>\n",
       "</mark>\n",
       " ETFs, written up very nicely by [The Bear Cave](https://thebearcave.substack.com/p/special-edition-will-ark-invest-blow). The risks comes primarily from \n",
       "<mark class=\"entity\" style=\"background: #7aecec; padding: 0.45em 0.6em; margin: 0 0.25em; line-height: 1; border-radius: 0.35em;\">\n",
       "    ARK\n",
       "    <span style=\"font-size: 0.8em; font-weight: bold; line-height: 1; border-radius: 0.35em; vertical-align: middle; margin-left: 0.5rem\">ORG</span>\n",
       "</mark>\n",
       "'s illiquid and very large holdings in small cap companies. \n",
       "<mark class=\"entity\" style=\"background: #7aecec; padding: 0.45em 0.6em; margin: 0 0.25em; line-height: 1; border-radius: 0.35em;\">\n",
       "    ARK\n",
       "    <span style=\"font-size: 0.8em; font-weight: bold; line-height: 1; border-radius: 0.35em; vertical-align: middle; margin-left: 0.5rem\">ORG</span>\n",
       "</mark>\n",
       " is forced to sell its holdings whenever its liquid ETF gets hit with outflows as is especially the case in market downturns. This could force very painful liquidations at unfavorable prices and the ensuing crash goes into a positive feedback loop leading into a death spiral enticing even more outflows and predatory shorts.</div></span>"
      ],
      "text/plain": [
       "<IPython.core.display.HTML object>"
      ]
     },
     "metadata": {},
     "output_type": "display_data"
    }
   ],
   "source": [
    "displacy.render(doc, style=\"ent\")"
   ]
  },
  {
   "cell_type": "code",
   "execution_count": 8,
   "metadata": {},
   "outputs": [
    {
     "data": {
      "text/plain": [
       "'Companies, agencies, institutions, etc.'"
      ]
     },
     "execution_count": 8,
     "metadata": {},
     "output_type": "execute_result"
    }
   ],
   "source": [
    "spacy.explain(\"ORG\")"
   ]
  },
  {
   "cell_type": "code",
   "execution_count": 9,
   "metadata": {},
   "outputs": [
    {
     "data": {
      "text/plain": [
       "'Countries, cities, states'"
      ]
     },
     "execution_count": 9,
     "metadata": {},
     "output_type": "execute_result"
    }
   ],
   "source": [
    "spacy.explain(\"GPE\")"
   ]
  },
  {
   "cell_type": "markdown",
   "metadata": {},
   "source": [
    "## reddit_data"
   ]
  },
  {
   "cell_type": "code",
   "execution_count": 11,
   "metadata": {},
   "outputs": [],
   "source": [
    "import pandas as pd"
   ]
  },
  {
   "cell_type": "code",
   "execution_count": 12,
   "metadata": {},
   "outputs": [
    {
     "data": {
      "text/html": [
       "<div>\n",
       "<style scoped>\n",
       "    .dataframe tbody tr th:only-of-type {\n",
       "        vertical-align: middle;\n",
       "    }\n",
       "\n",
       "    .dataframe tbody tr th {\n",
       "        vertical-align: top;\n",
       "    }\n",
       "\n",
       "    .dataframe thead th {\n",
       "        text-align: right;\n",
       "    }\n",
       "</style>\n",
       "<table border=\"1\" class=\"dataframe\">\n",
       "  <thead>\n",
       "    <tr style=\"text-align: right;\">\n",
       "      <th></th>\n",
       "      <th>created_utc</th>\n",
       "      <th>downs</th>\n",
       "      <th>id</th>\n",
       "      <th>score</th>\n",
       "      <th>selftext</th>\n",
       "      <th>subreddit</th>\n",
       "      <th>title</th>\n",
       "      <th>ups</th>\n",
       "      <th>upvote_ratio</th>\n",
       "    </tr>\n",
       "  </thead>\n",
       "  <tbody>\n",
       "    <tr>\n",
       "      <th>0</th>\n",
       "      <td>1.614290e+09</td>\n",
       "      <td>0.0</td>\n",
       "      <td>t3_lshtjn</td>\n",
       "      <td>10.0</td>\n",
       "      <td>Bloomberg article: [https://www.bloomberg.com/...</td>\n",
       "      <td>investing</td>\n",
       "      <td>Fed Views Rising Yields as Bullish Sign Reflec...</td>\n",
       "      <td>10.0</td>\n",
       "      <td>0.86</td>\n",
       "    </tr>\n",
       "    <tr>\n",
       "      <th>1</th>\n",
       "      <td>1.614286e+09</td>\n",
       "      <td>0.0</td>\n",
       "      <td>t3_lsgahw</td>\n",
       "      <td>56.0</td>\n",
       "      <td>Given the recent downturn in stocks especially...</td>\n",
       "      <td>investing</td>\n",
       "      <td>ARK ETFs implosion risk ------------------------</td>\n",
       "      <td>56.0</td>\n",
       "      <td>0.83</td>\n",
       "    </tr>\n",
       "    <tr>\n",
       "      <th>2</th>\n",
       "      <td>1.614283e+09</td>\n",
       "      <td>0.0</td>\n",
       "      <td>t3_lsf8td</td>\n",
       "      <td>1.0</td>\n",
       "      <td>[https://twitter.com/desogames/status/13649710...</td>\n",
       "      <td>investing</td>\n",
       "      <td>The Counter-Party Risk Bubble</td>\n",
       "      <td>1.0</td>\n",
       "      <td>0.53</td>\n",
       "    </tr>\n",
       "    <tr>\n",
       "      <th>3</th>\n",
       "      <td>1.614282e+09</td>\n",
       "      <td>0.0</td>\n",
       "      <td>t3_lsf3nh</td>\n",
       "      <td>6.0</td>\n",
       "      <td>When you think of futures, what comes to your ...</td>\n",
       "      <td>investing</td>\n",
       "      <td>Futures were made for days like these</td>\n",
       "      <td>6.0</td>\n",
       "      <td>0.62</td>\n",
       "    </tr>\n",
       "    <tr>\n",
       "      <th>4</th>\n",
       "      <td>1.614278e+09</td>\n",
       "      <td>0.0</td>\n",
       "      <td>t3_lsdcib</td>\n",
       "      <td>3.0</td>\n",
       "      <td>I've been on this sub for quite some time and ...</td>\n",
       "      <td>investing</td>\n",
       "      <td>Let's talk about liquidity premiums</td>\n",
       "      <td>3.0</td>\n",
       "      <td>0.67</td>\n",
       "    </tr>\n",
       "  </tbody>\n",
       "</table>\n",
       "</div>"
      ],
      "text/plain": [
       "    created_utc  downs         id  score  \\\n",
       "0  1.614290e+09    0.0  t3_lshtjn   10.0   \n",
       "1  1.614286e+09    0.0  t3_lsgahw   56.0   \n",
       "2  1.614283e+09    0.0  t3_lsf8td    1.0   \n",
       "3  1.614282e+09    0.0  t3_lsf3nh    6.0   \n",
       "4  1.614278e+09    0.0  t3_lsdcib    3.0   \n",
       "\n",
       "                                            selftext  subreddit  \\\n",
       "0  Bloomberg article: [https://www.bloomberg.com/...  investing   \n",
       "1  Given the recent downturn in stocks especially...  investing   \n",
       "2  [https://twitter.com/desogames/status/13649710...  investing   \n",
       "3  When you think of futures, what comes to your ...  investing   \n",
       "4  I've been on this sub for quite some time and ...  investing   \n",
       "\n",
       "                                               title   ups  upvote_ratio  \n",
       "0  Fed Views Rising Yields as Bullish Sign Reflec...  10.0          0.86  \n",
       "1   ARK ETFs implosion risk ------------------------  56.0          0.83  \n",
       "2                      The Counter-Party Risk Bubble   1.0          0.53  \n",
       "3              Futures were made for days like these   6.0          0.62  \n",
       "4                Let's talk about liquidity premiums   3.0          0.67  "
      ]
     },
     "execution_count": 12,
     "metadata": {},
     "output_type": "execute_result"
    }
   ],
   "source": [
    "df = pd.read_csv(\"../data/ner/reddit_investing.csv\", sep='|')\n",
    "df.head()"
   ]
  },
  {
   "cell_type": "code",
   "execution_count": 13,
   "metadata": {},
   "outputs": [],
   "source": [
    "def get_orgs(txt):\n",
    "    doc = nlp(txt)\n",
    "    orgs = [ent.text for ent in doc.ents if ent.label_ == \"ORG\"]\n",
    "    return orgs"
   ]
  },
  {
   "cell_type": "code",
   "execution_count": 15,
   "metadata": {},
   "outputs": [],
   "source": [
    "df['organizations'] = df['selftext'].apply(get_orgs)"
   ]
  },
  {
   "cell_type": "code",
   "execution_count": 17,
   "metadata": {},
   "outputs": [
    {
     "data": {
      "text/plain": [
       "0      [Federal Reserve, Treasury, Fed, Fed, Fed, Fed...\n",
       "1                                        [ARK, ARK, ARK]\n",
       "2                                        [ITM, ITM, ITM]\n",
       "3                    [NQ, NQ, the new micro futures, NQ]\n",
       "4                                                     []\n",
       "                             ...                        \n",
       "795                       [VC, Fintech, SaaS, Crowdcube]\n",
       "796    [Toyota, Tesla, Tesla, ATT, Tesla, Toyota, Toy...\n",
       "797                                                   []\n",
       "798                                                [ABC]\n",
       "799                                       [Apple, Apple]\n",
       "Name: organizations, Length: 800, dtype: object"
      ]
     },
     "execution_count": 17,
     "metadata": {},
     "output_type": "execute_result"
    }
   ],
   "source": [
    "df['organizations']"
   ]
  },
  {
   "cell_type": "code",
   "execution_count": 18,
   "metadata": {},
   "outputs": [],
   "source": [
    "from collections import Counter"
   ]
  },
  {
   "cell_type": "code",
   "execution_count": 19,
   "metadata": {},
   "outputs": [],
   "source": [
    "orgs = Counter([org for orgs in df['organizations'] for org in orgs])"
   ]
  },
  {
   "cell_type": "code",
   "execution_count": 22,
   "metadata": {},
   "outputs": [
    {
     "data": {
      "text/plain": [
       "[('EV', 139),\n",
       " ('GME', 104),\n",
       " ('Tesla', 92),\n",
       " ('IPO', 62),\n",
       " ('ETF', 62),\n",
       " ('FDA', 55),\n",
       " ('Fed', 51),\n",
       " ('Amazon', 51),\n",
       " ('Apple', 51),\n",
       " ('ELMS', 46)]"
      ]
     },
     "execution_count": 22,
     "metadata": {},
     "output_type": "execute_result"
    }
   ],
   "source": [
    "orgs.most_common(10)"
   ]
  },
  {
   "cell_type": "code",
   "execution_count": 23,
   "metadata": {},
   "outputs": [],
   "source": [
    "black_list =['ev', 'sec', 'nyse', 'fda']"
   ]
  },
  {
   "cell_type": "code",
   "execution_count": 24,
   "metadata": {},
   "outputs": [],
   "source": [
    "def get_orgs(txt):\n",
    "    doc = nlp(txt)\n",
    "    orgs = [ent.text for ent in doc.ents if ent.label_ == \"ORG\" and ent.text.lower() not in black_list]\n",
    "    return orgs"
   ]
  },
  {
   "cell_type": "code",
   "execution_count": 25,
   "metadata": {},
   "outputs": [],
   "source": [
    "df['organizations'] = df['selftext'].apply(get_orgs)"
   ]
  },
  {
   "cell_type": "code",
   "execution_count": 26,
   "metadata": {},
   "outputs": [
    {
     "data": {
      "text/plain": [
       "[('GME', 104),\n",
       " ('Tesla', 92),\n",
       " ('IPO', 62),\n",
       " ('ETF', 62),\n",
       " ('Fed', 51),\n",
       " ('Amazon', 51),\n",
       " ('Apple', 51),\n",
       " ('ELMS', 46),\n",
       " ('OPY', 44),\n",
       " ('EU', 43)]"
      ]
     },
     "execution_count": 26,
     "metadata": {},
     "output_type": "execute_result"
    }
   ],
   "source": [
    "orgs = Counter([org for orgs in df['organizations'] for org in orgs])\n",
    "orgs.most_common(10)"
   ]
  },
  {
   "cell_type": "code",
   "execution_count": 27,
   "metadata": {},
   "outputs": [],
   "source": [
    "df.to_csv(\"../data/ner/reddit_investing_orgs.csv\", sep='|', index=False)"
   ]
  },
  {
   "cell_type": "code",
   "execution_count": 28,
   "metadata": {},
   "outputs": [
    {
     "name": "stdout",
     "output_type": "stream",
     "text": [
      "Requirement already satisfied: flair in c:\\users\\abhilash\\anaconda3\\envs\\nlp\\lib\\site-packages (0.12.2)\n",
      "Requirement already satisfied: python-dateutil>=2.6.1 in c:\\users\\abhilash\\anaconda3\\envs\\nlp\\lib\\site-packages (from flair) (2.8.2)\n",
      "Requirement already satisfied: torch!=1.8,>=1.5.0 in c:\\users\\abhilash\\anaconda3\\envs\\nlp\\lib\\site-packages (from flair) (2.0.0)\n",
      "Requirement already satisfied: gensim>=3.8.0 in c:\\users\\abhilash\\anaconda3\\envs\\nlp\\lib\\site-packages (from flair) (4.3.1)\n",
      "Requirement already satisfied: tqdm>=4.26.0 in c:\\users\\abhilash\\anaconda3\\envs\\nlp\\lib\\site-packages (from flair) (4.65.0)\n",
      "Requirement already satisfied: segtok>=1.5.7 in c:\\users\\abhilash\\anaconda3\\envs\\nlp\\lib\\site-packages (from flair) (1.5.11)\n",
      "Requirement already satisfied: matplotlib>=2.2.3 in c:\\users\\abhilash\\anaconda3\\envs\\nlp\\lib\\site-packages (from flair) (3.7.2)\n",
      "Requirement already satisfied: mpld3==0.3 in c:\\users\\abhilash\\anaconda3\\envs\\nlp\\lib\\site-packages (from flair) (0.3)\n",
      "Requirement already satisfied: scikit-learn>=0.21.3 in c:\\users\\abhilash\\anaconda3\\envs\\nlp\\lib\\site-packages (from flair) (1.3.0)\n",
      "Requirement already satisfied: sqlitedict>=1.6.0 in c:\\users\\abhilash\\anaconda3\\envs\\nlp\\lib\\site-packages (from flair) (2.1.0)\n",
      "Requirement already satisfied: deprecated>=1.2.4 in c:\\users\\abhilash\\anaconda3\\envs\\nlp\\lib\\site-packages (from flair) (1.2.14)\n",
      "Requirement already satisfied: hyperopt>=0.2.7 in c:\\users\\abhilash\\anaconda3\\envs\\nlp\\lib\\site-packages (from flair) (0.2.7)\n",
      "Requirement already satisfied: boto3 in c:\\users\\abhilash\\anaconda3\\envs\\nlp\\lib\\site-packages (from flair) (1.28.34)\n",
      "Requirement already satisfied: transformers[sentencepiece]>=4.18.0 in c:\\users\\abhilash\\anaconda3\\envs\\nlp\\lib\\site-packages (from flair) (4.31.0)\n",
      "Requirement already satisfied: bpemb>=0.3.2 in c:\\users\\abhilash\\anaconda3\\envs\\nlp\\lib\\site-packages (from flair) (0.3.4)\n",
      "Requirement already satisfied: regex in c:\\users\\abhilash\\anaconda3\\envs\\nlp\\lib\\site-packages (from flair) (2023.6.3)\n",
      "Requirement already satisfied: tabulate in c:\\users\\abhilash\\anaconda3\\envs\\nlp\\lib\\site-packages (from flair) (0.9.0)\n",
      "Requirement already satisfied: langdetect in c:\\users\\abhilash\\anaconda3\\envs\\nlp\\lib\\site-packages (from flair) (1.0.9)\n",
      "Requirement already satisfied: lxml in c:\\users\\abhilash\\anaconda3\\envs\\nlp\\lib\\site-packages (from flair) (4.9.3)\n",
      "Requirement already satisfied: ftfy in c:\\users\\abhilash\\anaconda3\\envs\\nlp\\lib\\site-packages (from flair) (6.1.1)\n",
      "Requirement already satisfied: janome in c:\\users\\abhilash\\anaconda3\\envs\\nlp\\lib\\site-packages (from flair) (0.5.0)\n",
      "Requirement already satisfied: gdown==4.4.0 in c:\\users\\abhilash\\anaconda3\\envs\\nlp\\lib\\site-packages (from flair) (4.4.0)\n",
      "Requirement already satisfied: huggingface-hub>=0.10.0 in c:\\users\\abhilash\\anaconda3\\envs\\nlp\\lib\\site-packages (from flair) (0.16.4)\n",
      "Requirement already satisfied: conllu>=4.0 in c:\\users\\abhilash\\anaconda3\\envs\\nlp\\lib\\site-packages (from flair) (4.5.3)\n",
      "Requirement already satisfied: more-itertools in c:\\users\\abhilash\\anaconda3\\envs\\nlp\\lib\\site-packages (from flair) (10.1.0)\n",
      "Requirement already satisfied: wikipedia-api in c:\\users\\abhilash\\anaconda3\\envs\\nlp\\lib\\site-packages (from flair) (0.6.0)\n",
      "Requirement already satisfied: pptree in c:\\users\\abhilash\\anaconda3\\envs\\nlp\\lib\\site-packages (from flair) (3.1)\n",
      "Requirement already satisfied: pytorch-revgrad in c:\\users\\abhilash\\anaconda3\\envs\\nlp\\lib\\site-packages (from flair) (0.2.0)\n",
      "Requirement already satisfied: transformer-smaller-training-vocab>=0.2.1 in c:\\users\\abhilash\\anaconda3\\envs\\nlp\\lib\\site-packages (from flair) (0.3.1)\n",
      "Requirement already satisfied: filelock in c:\\users\\abhilash\\anaconda3\\envs\\nlp\\lib\\site-packages (from gdown==4.4.0->flair) (3.12.2)\n",
      "Requirement already satisfied: requests[socks] in c:\\users\\abhilash\\anaconda3\\envs\\nlp\\lib\\site-packages (from gdown==4.4.0->flair) (2.31.0)\n",
      "Requirement already satisfied: six in c:\\users\\abhilash\\anaconda3\\envs\\nlp\\lib\\site-packages (from gdown==4.4.0->flair) (1.16.0)\n",
      "Requirement already satisfied: beautifulsoup4 in c:\\users\\abhilash\\anaconda3\\envs\\nlp\\lib\\site-packages (from gdown==4.4.0->flair) (4.12.2)\n",
      "Requirement already satisfied: numpy in c:\\users\\abhilash\\anaconda3\\envs\\nlp\\lib\\site-packages (from bpemb>=0.3.2->flair) (1.24.3)\n",
      "Requirement already satisfied: sentencepiece in c:\\users\\abhilash\\anaconda3\\envs\\nlp\\lib\\site-packages (from bpemb>=0.3.2->flair) (0.1.99)\n",
      "Requirement already satisfied: wrapt<2,>=1.10 in c:\\users\\abhilash\\anaconda3\\envs\\nlp\\lib\\site-packages (from deprecated>=1.2.4->flair) (1.15.0)\n",
      "Requirement already satisfied: scipy>=1.7.0 in c:\\users\\abhilash\\anaconda3\\envs\\nlp\\lib\\site-packages (from gensim>=3.8.0->flair) (1.11.1)\n",
      "Requirement already satisfied: smart-open>=1.8.1 in c:\\users\\abhilash\\anaconda3\\envs\\nlp\\lib\\site-packages (from gensim>=3.8.0->flair) (6.3.0)\n",
      "Requirement already satisfied: fsspec in c:\\users\\abhilash\\anaconda3\\envs\\nlp\\lib\\site-packages (from huggingface-hub>=0.10.0->flair) (2023.6.0)\n",
      "Requirement already satisfied: pyyaml>=5.1 in c:\\users\\abhilash\\anaconda3\\envs\\nlp\\lib\\site-packages (from huggingface-hub>=0.10.0->flair) (6.0.1)\n",
      "Requirement already satisfied: typing-extensions>=3.7.4.3 in c:\\users\\abhilash\\anaconda3\\envs\\nlp\\lib\\site-packages (from huggingface-hub>=0.10.0->flair) (4.7.1)\n",
      "Requirement already satisfied: packaging>=20.9 in c:\\users\\abhilash\\anaconda3\\envs\\nlp\\lib\\site-packages (from huggingface-hub>=0.10.0->flair) (23.1)\n",
      "Requirement already satisfied: networkx>=2.2 in c:\\users\\abhilash\\anaconda3\\envs\\nlp\\lib\\site-packages (from hyperopt>=0.2.7->flair) (3.1)\n",
      "Requirement already satisfied: future in c:\\users\\abhilash\\anaconda3\\envs\\nlp\\lib\\site-packages (from hyperopt>=0.2.7->flair) (0.18.3)\n",
      "Requirement already satisfied: cloudpickle in c:\\users\\abhilash\\anaconda3\\envs\\nlp\\lib\\site-packages (from hyperopt>=0.2.7->flair) (2.2.1)\n",
      "Requirement already satisfied: py4j in c:\\users\\abhilash\\anaconda3\\envs\\nlp\\lib\\site-packages (from hyperopt>=0.2.7->flair) (0.10.9.7)\n",
      "Requirement already satisfied: contourpy>=1.0.1 in c:\\users\\abhilash\\anaconda3\\envs\\nlp\\lib\\site-packages (from matplotlib>=2.2.3->flair) (1.1.0)\n",
      "Requirement already satisfied: cycler>=0.10 in c:\\users\\abhilash\\anaconda3\\envs\\nlp\\lib\\site-packages (from matplotlib>=2.2.3->flair) (0.11.0)\n",
      "Requirement already satisfied: fonttools>=4.22.0 in c:\\users\\abhilash\\anaconda3\\envs\\nlp\\lib\\site-packages (from matplotlib>=2.2.3->flair) (4.42.0)\n",
      "Requirement already satisfied: kiwisolver>=1.0.1 in c:\\users\\abhilash\\anaconda3\\envs\\nlp\\lib\\site-packages (from matplotlib>=2.2.3->flair) (1.4.4)\n",
      "Requirement already satisfied: pillow>=6.2.0 in c:\\users\\abhilash\\anaconda3\\envs\\nlp\\lib\\site-packages (from matplotlib>=2.2.3->flair) (9.5.0)\n",
      "Requirement already satisfied: pyparsing<3.1,>=2.3.1 in c:\\users\\abhilash\\anaconda3\\envs\\nlp\\lib\\site-packages (from matplotlib>=2.2.3->flair) (3.0.9)\n",
      "Requirement already satisfied: joblib>=1.1.1 in c:\\users\\abhilash\\anaconda3\\envs\\nlp\\lib\\site-packages (from scikit-learn>=0.21.3->flair) (1.3.1)\n",
      "Requirement already satisfied: threadpoolctl>=2.0.0 in c:\\users\\abhilash\\anaconda3\\envs\\nlp\\lib\\site-packages (from scikit-learn>=0.21.3->flair) (3.2.0)\n",
      "Requirement already satisfied: sympy in c:\\users\\abhilash\\anaconda3\\envs\\nlp\\lib\\site-packages (from torch!=1.8,>=1.5.0->flair) (1.12)\n",
      "Requirement already satisfied: jinja2 in c:\\users\\abhilash\\anaconda3\\envs\\nlp\\lib\\site-packages (from torch!=1.8,>=1.5.0->flair) (3.1.2)\n",
      "Requirement already satisfied: colorama in c:\\users\\abhilash\\anaconda3\\envs\\nlp\\lib\\site-packages (from tqdm>=4.26.0->flair) (0.4.6)\n",
      "Requirement already satisfied: tokenizers!=0.11.3,<0.14,>=0.11.1 in c:\\users\\abhilash\\anaconda3\\envs\\nlp\\lib\\site-packages (from transformers[sentencepiece]>=4.18.0->flair) (0.13.3)\n",
      "Requirement already satisfied: safetensors>=0.3.1 in c:\\users\\abhilash\\anaconda3\\envs\\nlp\\lib\\site-packages (from transformers[sentencepiece]>=4.18.0->flair) (0.3.2)\n",
      "Requirement already satisfied: protobuf in c:\\users\\abhilash\\anaconda3\\envs\\nlp\\lib\\site-packages (from transformers[sentencepiece]>=4.18.0->flair) (4.24.0)\n",
      "Requirement already satisfied: botocore<1.32.0,>=1.31.34 in c:\\users\\abhilash\\anaconda3\\envs\\nlp\\lib\\site-packages (from boto3->flair) (1.31.34)\n",
      "Requirement already satisfied: jmespath<2.0.0,>=0.7.1 in c:\\users\\abhilash\\anaconda3\\envs\\nlp\\lib\\site-packages (from boto3->flair) (1.0.1)\n",
      "Requirement already satisfied: s3transfer<0.7.0,>=0.6.0 in c:\\users\\abhilash\\anaconda3\\envs\\nlp\\lib\\site-packages (from boto3->flair) (0.6.2)\n",
      "Requirement already satisfied: wcwidth>=0.2.5 in c:\\users\\abhilash\\anaconda3\\envs\\nlp\\lib\\site-packages (from ftfy->flair) (0.2.6)\n",
      "Requirement already satisfied: urllib3<1.27,>=1.25.4 in c:\\users\\abhilash\\anaconda3\\envs\\nlp\\lib\\site-packages (from botocore<1.32.0,>=1.31.34->boto3->flair) (1.26.16)\n",
      "Requirement already satisfied: accelerate>=0.20.3 in c:\\users\\abhilash\\anaconda3\\envs\\nlp\\lib\\site-packages (from transformers[sentencepiece]>=4.18.0->flair) (0.22.0)\n",
      "Requirement already satisfied: soupsieve>1.2 in c:\\users\\abhilash\\anaconda3\\envs\\nlp\\lib\\site-packages (from beautifulsoup4->gdown==4.4.0->flair) (2.4.1)\n",
      "Requirement already satisfied: MarkupSafe>=2.0 in c:\\users\\abhilash\\anaconda3\\envs\\nlp\\lib\\site-packages (from jinja2->torch!=1.8,>=1.5.0->flair) (2.1.3)\n",
      "Requirement already satisfied: charset-normalizer<4,>=2 in c:\\users\\abhilash\\anaconda3\\envs\\nlp\\lib\\site-packages (from requests[socks]->gdown==4.4.0->flair) (3.2.0)\n",
      "Requirement already satisfied: idna<4,>=2.5 in c:\\users\\abhilash\\anaconda3\\envs\\nlp\\lib\\site-packages (from requests[socks]->gdown==4.4.0->flair) (3.4)\n",
      "Requirement already satisfied: certifi>=2017.4.17 in c:\\users\\abhilash\\anaconda3\\envs\\nlp\\lib\\site-packages (from requests[socks]->gdown==4.4.0->flair) (2023.7.22)\n",
      "Requirement already satisfied: PySocks!=1.5.7,>=1.5.6 in c:\\users\\abhilash\\anaconda3\\envs\\nlp\\lib\\site-packages (from requests[socks]->gdown==4.4.0->flair) (1.7.1)\n",
      "Requirement already satisfied: mpmath>=0.19 in c:\\users\\abhilash\\anaconda3\\envs\\nlp\\lib\\site-packages (from sympy->torch!=1.8,>=1.5.0->flair) (1.3.0)\n",
      "Requirement already satisfied: psutil in c:\\users\\abhilash\\anaconda3\\envs\\nlp\\lib\\site-packages (from accelerate>=0.20.3->transformers[sentencepiece]>=4.18.0->flair) (5.9.5)\n"
     ]
    }
   ],
   "source": [
    "!pip install flair"
   ]
  },
  {
   "cell_type": "code",
   "execution_count": 29,
   "metadata": {},
   "outputs": [
    {
     "name": "stdout",
     "output_type": "stream",
     "text": [
      "2023-08-31 11:54:51,762 https://nlp.informatik.hu-berlin.de/resources/models/sentiment-curated-distilbert/sentiment-en-mix-distillbert_4.pt not found in cache, downloading to C:\\Users\\Abhilash\\AppData\\Local\\Temp\\tmppe04ohdf\n"
     ]
    },
    {
     "name": "stderr",
     "output_type": "stream",
     "text": [
      "100%|██████████| 253M/253M [04:13<00:00, 1.05MB/s]   "
     ]
    },
    {
     "name": "stdout",
     "output_type": "stream",
     "text": [
      "2023-08-31 11:59:06,231 copying C:\\Users\\Abhilash\\AppData\\Local\\Temp\\tmppe04ohdf to cache at C:\\Users\\Abhilash\\.flair\\models\\sentiment-en-mix-distillbert_4.pt\n"
     ]
    },
    {
     "name": "stderr",
     "output_type": "stream",
     "text": [
      "\n"
     ]
    },
    {
     "name": "stdout",
     "output_type": "stream",
     "text": [
      "2023-08-31 11:59:07,218 removing temp file C:\\Users\\Abhilash\\AppData\\Local\\Temp\\tmppe04ohdf\n"
     ]
    }
   ],
   "source": [
    "import flair\n",
    "model = flair.models.TextClassifier.load('en-sentiment')"
   ]
  },
  {
   "cell_type": "code",
   "execution_count": 30,
   "metadata": {},
   "outputs": [],
   "source": [
    "def get_sentiment(txt):\n",
    "    s = flair.data.Sentence(txt)\n",
    "    model.predict(s)\n",
    "    return s.labels[0].value"
   ]
  },
  {
   "cell_type": "code",
   "execution_count": 31,
   "metadata": {},
   "outputs": [],
   "source": [
    "df['sentiment'] = df['selftext'].apply(get_sentiment)"
   ]
  },
  {
   "cell_type": "code",
   "execution_count": 35,
   "metadata": {},
   "outputs": [
    {
     "data": {
      "text/plain": [
       "sentiment\n",
       "NEGATIVE    616\n",
       "POSITIVE    184\n",
       "Name: count, dtype: int64"
      ]
     },
     "execution_count": 35,
     "metadata": {},
     "output_type": "execute_result"
    }
   ],
   "source": [
    "df['sentiment'].value_counts()"
   ]
  },
  {
   "cell_type": "code",
   "execution_count": 36,
   "metadata": {},
   "outputs": [
    {
     "data": {
      "text/html": [
       "<div>\n",
       "<style scoped>\n",
       "    .dataframe tbody tr th:only-of-type {\n",
       "        vertical-align: middle;\n",
       "    }\n",
       "\n",
       "    .dataframe tbody tr th {\n",
       "        vertical-align: top;\n",
       "    }\n",
       "\n",
       "    .dataframe thead th {\n",
       "        text-align: right;\n",
       "    }\n",
       "</style>\n",
       "<table border=\"1\" class=\"dataframe\">\n",
       "  <thead>\n",
       "    <tr style=\"text-align: right;\">\n",
       "      <th></th>\n",
       "      <th>created_utc</th>\n",
       "      <th>downs</th>\n",
       "      <th>id</th>\n",
       "      <th>score</th>\n",
       "      <th>selftext</th>\n",
       "      <th>subreddit</th>\n",
       "      <th>title</th>\n",
       "      <th>ups</th>\n",
       "      <th>upvote_ratio</th>\n",
       "      <th>organizations</th>\n",
       "      <th>sentiment</th>\n",
       "    </tr>\n",
       "  </thead>\n",
       "  <tbody>\n",
       "    <tr>\n",
       "      <th>0</th>\n",
       "      <td>1.614290e+09</td>\n",
       "      <td>0.0</td>\n",
       "      <td>t3_lshtjn</td>\n",
       "      <td>10.0</td>\n",
       "      <td>Bloomberg article: [https://www.bloomberg.com/...</td>\n",
       "      <td>investing</td>\n",
       "      <td>Fed Views Rising Yields as Bullish Sign Reflec...</td>\n",
       "      <td>10.0</td>\n",
       "      <td>0.86</td>\n",
       "      <td>[Federal Reserve, Treasury, Fed, Fed, Fed, Fed...</td>\n",
       "      <td>NEGATIVE</td>\n",
       "    </tr>\n",
       "    <tr>\n",
       "      <th>1</th>\n",
       "      <td>1.614286e+09</td>\n",
       "      <td>0.0</td>\n",
       "      <td>t3_lsgahw</td>\n",
       "      <td>56.0</td>\n",
       "      <td>Given the recent downturn in stocks especially...</td>\n",
       "      <td>investing</td>\n",
       "      <td>ARK ETFs implosion risk ------------------------</td>\n",
       "      <td>56.0</td>\n",
       "      <td>0.83</td>\n",
       "      <td>[ARK, ARK, ARK]</td>\n",
       "      <td>NEGATIVE</td>\n",
       "    </tr>\n",
       "    <tr>\n",
       "      <th>2</th>\n",
       "      <td>1.614283e+09</td>\n",
       "      <td>0.0</td>\n",
       "      <td>t3_lsf8td</td>\n",
       "      <td>1.0</td>\n",
       "      <td>[https://twitter.com/desogames/status/13649710...</td>\n",
       "      <td>investing</td>\n",
       "      <td>The Counter-Party Risk Bubble</td>\n",
       "      <td>1.0</td>\n",
       "      <td>0.53</td>\n",
       "      <td>[ITM, ITM, ITM]</td>\n",
       "      <td>NEGATIVE</td>\n",
       "    </tr>\n",
       "    <tr>\n",
       "      <th>3</th>\n",
       "      <td>1.614282e+09</td>\n",
       "      <td>0.0</td>\n",
       "      <td>t3_lsf3nh</td>\n",
       "      <td>6.0</td>\n",
       "      <td>When you think of futures, what comes to your ...</td>\n",
       "      <td>investing</td>\n",
       "      <td>Futures were made for days like these</td>\n",
       "      <td>6.0</td>\n",
       "      <td>0.62</td>\n",
       "      <td>[NQ, NQ, the new micro futures, NQ]</td>\n",
       "      <td>NEGATIVE</td>\n",
       "    </tr>\n",
       "    <tr>\n",
       "      <th>4</th>\n",
       "      <td>1.614278e+09</td>\n",
       "      <td>0.0</td>\n",
       "      <td>t3_lsdcib</td>\n",
       "      <td>3.0</td>\n",
       "      <td>I've been on this sub for quite some time and ...</td>\n",
       "      <td>investing</td>\n",
       "      <td>Let's talk about liquidity premiums</td>\n",
       "      <td>3.0</td>\n",
       "      <td>0.67</td>\n",
       "      <td>[]</td>\n",
       "      <td>NEGATIVE</td>\n",
       "    </tr>\n",
       "  </tbody>\n",
       "</table>\n",
       "</div>"
      ],
      "text/plain": [
       "    created_utc  downs         id  score  \\\n",
       "0  1.614290e+09    0.0  t3_lshtjn   10.0   \n",
       "1  1.614286e+09    0.0  t3_lsgahw   56.0   \n",
       "2  1.614283e+09    0.0  t3_lsf8td    1.0   \n",
       "3  1.614282e+09    0.0  t3_lsf3nh    6.0   \n",
       "4  1.614278e+09    0.0  t3_lsdcib    3.0   \n",
       "\n",
       "                                            selftext  subreddit  \\\n",
       "0  Bloomberg article: [https://www.bloomberg.com/...  investing   \n",
       "1  Given the recent downturn in stocks especially...  investing   \n",
       "2  [https://twitter.com/desogames/status/13649710...  investing   \n",
       "3  When you think of futures, what comes to your ...  investing   \n",
       "4  I've been on this sub for quite some time and ...  investing   \n",
       "\n",
       "                                               title   ups  upvote_ratio  \\\n",
       "0  Fed Views Rising Yields as Bullish Sign Reflec...  10.0          0.86   \n",
       "1   ARK ETFs implosion risk ------------------------  56.0          0.83   \n",
       "2                      The Counter-Party Risk Bubble   1.0          0.53   \n",
       "3              Futures were made for days like these   6.0          0.62   \n",
       "4                Let's talk about liquidity premiums   3.0          0.67   \n",
       "\n",
       "                                       organizations sentiment  \n",
       "0  [Federal Reserve, Treasury, Fed, Fed, Fed, Fed...  NEGATIVE  \n",
       "1                                    [ARK, ARK, ARK]  NEGATIVE  \n",
       "2                                    [ITM, ITM, ITM]  NEGATIVE  \n",
       "3                [NQ, NQ, the new micro futures, NQ]  NEGATIVE  \n",
       "4                                                 []  NEGATIVE  "
      ]
     },
     "execution_count": 36,
     "metadata": {},
     "output_type": "execute_result"
    }
   ],
   "source": [
    "df.head()"
   ]
  },
  {
   "cell_type": "code",
   "execution_count": null,
   "metadata": {},
   "outputs": [],
   "source": []
  }
 ],
 "metadata": {
  "kernelspec": {
   "display_name": "nlp",
   "language": "python",
   "name": "python3"
  },
  "language_info": {
   "codemirror_mode": {
    "name": "ipython",
    "version": 3
   },
   "file_extension": ".py",
   "mimetype": "text/x-python",
   "name": "python",
   "nbconvert_exporter": "python",
   "pygments_lexer": "ipython3",
   "version": "3.10.12"
  },
  "orig_nbformat": 4
 },
 "nbformat": 4,
 "nbformat_minor": 2
}
